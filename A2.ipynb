{
 "cells": [
  {
   "cell_type": "markdown",
   "id": "0b1f7faf-ecd9-40dd-ba5d-3db5285846e0",
   "metadata": {},
   "source": [
    "# Assignment 2: Feature Engineering & Linear Regression\n",
    "Olivia Steed\n",
    "301421820"
   ]
  },
  {
   "cell_type": "markdown",
   "id": "eab22ea7",
   "metadata": {},
   "source": [
    "## **Introduction**\n",
    "\n",
    "In this assignment, you will focus on **feature engineering** and **linear regression**.\n",
    "\n",
    "The dataset is collected from an e-commerce platform (https://www.kaggle.com/datasets/retailrocket/ecommerce-dataset)\n",
    "and includes records of user interactions with products, as well as item metadata. The main table you'll work with is the **`events`** table. It logs the **timestamp**, **user ID**, **item ID**, the type of event (`view`, `add_to_cart`, or `transaction`), and, for purchases, a **transaction ID**.\n",
    "\n",
    "There is also an **item properties** table, which contains two main pieces of information: whether an item is **available** (denoted as 0 or 1), and a **category ID**. However, the meaning of the timestamp in this table is unclear — it could indicate when the category was assigned or when a change occurred. Additionally, a **category tree** table defines parent-child relationships between categories. Note that a category may have a parent, and that parent may have its own parent, forming a hierarchy.\n",
    "\n",
    "---\n",
    "\n",
    "#### Additional Notes\n",
    "\n",
    "- If the dataset is too large to process on your machine, you may **subset the data** — for example, by limiting the number of users or items.\n",
    "- You may also choose to **exclude item-weeks where no purchases occurred** (i.e., weekly purchase count is zero).\n",
    "- If you face any errors while converting timestamp values to date/time (if needed), try dividing the values by **1000** — this converts them from **milliseconds to seconds**."
   ]
  },
  {
   "cell_type": "code",
   "execution_count": 1,
   "id": "bf86ed4a",
   "metadata": {},
   "outputs": [],
   "source": [
    "import pandas as pd\n",
    "from sklearn.linear_model import LinearRegression\n",
    "from sklearn.metrics import r2_score\n",
    "import numpy as np\n",
    "import matplotlib.pyplot as plt\n",
    "import seaborn as sns"
   ]
  },
  {
   "cell_type": "markdown",
   "id": "7a9f04bb",
   "metadata": {},
   "source": [
    "## 1. Restructuring the dataset\n",
    "Your first task is to **restructure the dataset** to calculate the number of times each item was **successfully purchased per week**. This weekly sales count will be the **target variable** in your regression model."
   ]
  },
  {
   "cell_type": "markdown",
   "id": "feaa4ca3",
   "metadata": {},
   "source": [
    "First I'm going to get familiar with each dataset's contents and how they relate to each other."
   ]
  },
  {
   "cell_type": "code",
   "execution_count": 2,
   "id": "6e55859d",
   "metadata": {},
   "outputs": [],
   "source": [
    "# Load the dataset and get familiar with the event types and metadata\n",
    "\n",
    "event_df = pd.read_csv(\"a2_dataset/events.csv\")\n",
    "item_df = pd.read_csv(\"a2_dataset/item_properties.csv\")\n",
    "category_df = pd.read_csv(\"a2_dataset/category_tree.csv\")"
   ]
  },
  {
   "cell_type": "markdown",
   "id": "06facfb5",
   "metadata": {},
   "source": [
    "**event_df** is log data from each event by timestamp including timestamp, visitorid, event type, itemid, transactionid. This can be used to get the amount of purchases per product per week by visitor, and view general visitor visiting, adding to card, and transaction behaviour. The dataset is mainly integers and floats, with objects for the event type, but this could be one-hot encoded if needed. "
   ]
  },
  {
   "cell_type": "code",
   "execution_count": 3,
   "id": "5b14a847",
   "metadata": {},
   "outputs": [
    {
     "name": "stdout",
     "output_type": "stream",
     "text": [
      "<class 'pandas.core.frame.DataFrame'>\n",
      "RangeIndex: 2756101 entries, 0 to 2756100\n",
      "Data columns (total 5 columns):\n",
      " #   Column         Dtype  \n",
      "---  ------         -----  \n",
      " 0   timestamp      int64  \n",
      " 1   visitorid      int64  \n",
      " 2   event          object \n",
      " 3   itemid         int64  \n",
      " 4   transactionid  float64\n",
      "dtypes: float64(1), int64(3), object(1)\n",
      "memory usage: 105.1+ MB\n"
     ]
    }
   ],
   "source": [
    "# event_df is log data from each event by timestamp\n",
    "\n",
    "event_df.info()"
   ]
  },
  {
   "cell_type": "code",
   "execution_count": 4,
   "id": "9262c1be",
   "metadata": {},
   "outputs": [
    {
     "data": {
      "application/vnd.microsoft.datawrangler.viewer.v0+json": {
       "columns": [
        {
         "name": "index",
         "rawType": "int64",
         "type": "integer"
        },
        {
         "name": "timestamp",
         "rawType": "int64",
         "type": "integer"
        },
        {
         "name": "visitorid",
         "rawType": "int64",
         "type": "integer"
        },
        {
         "name": "event",
         "rawType": "object",
         "type": "string"
        },
        {
         "name": "itemid",
         "rawType": "int64",
         "type": "integer"
        },
        {
         "name": "transactionid",
         "rawType": "float64",
         "type": "float"
        }
       ],
       "ref": "f2218462-3196-498e-9b50-b51b31e4ca93",
       "rows": [
        [
         "0",
         "1433221332117",
         "257597",
         "view",
         "355908",
         null
        ],
        [
         "1",
         "1433224214164",
         "992329",
         "view",
         "248676",
         null
        ],
        [
         "2",
         "1433221999827",
         "111016",
         "view",
         "318965",
         null
        ],
        [
         "3",
         "1433221955914",
         "483717",
         "view",
         "253185",
         null
        ],
        [
         "4",
         "1433221337106",
         "951259",
         "view",
         "367447",
         null
        ],
        [
         "5",
         "1433224086234",
         "972639",
         "view",
         "22556",
         null
        ],
        [
         "6",
         "1433221923240",
         "810725",
         "view",
         "443030",
         null
        ],
        [
         "7",
         "1433223291897",
         "794181",
         "view",
         "439202",
         null
        ],
        [
         "8",
         "1433220899221",
         "824915",
         "view",
         "428805",
         null
        ],
        [
         "9",
         "1433221204592",
         "339335",
         "view",
         "82389",
         null
        ]
       ],
       "shape": {
        "columns": 5,
        "rows": 10
       }
      },
      "text/html": [
       "<div>\n",
       "<style scoped>\n",
       "    .dataframe tbody tr th:only-of-type {\n",
       "        vertical-align: middle;\n",
       "    }\n",
       "\n",
       "    .dataframe tbody tr th {\n",
       "        vertical-align: top;\n",
       "    }\n",
       "\n",
       "    .dataframe thead th {\n",
       "        text-align: right;\n",
       "    }\n",
       "</style>\n",
       "<table border=\"1\" class=\"dataframe\">\n",
       "  <thead>\n",
       "    <tr style=\"text-align: right;\">\n",
       "      <th></th>\n",
       "      <th>timestamp</th>\n",
       "      <th>visitorid</th>\n",
       "      <th>event</th>\n",
       "      <th>itemid</th>\n",
       "      <th>transactionid</th>\n",
       "    </tr>\n",
       "  </thead>\n",
       "  <tbody>\n",
       "    <tr>\n",
       "      <th>0</th>\n",
       "      <td>1433221332117</td>\n",
       "      <td>257597</td>\n",
       "      <td>view</td>\n",
       "      <td>355908</td>\n",
       "      <td>NaN</td>\n",
       "    </tr>\n",
       "    <tr>\n",
       "      <th>1</th>\n",
       "      <td>1433224214164</td>\n",
       "      <td>992329</td>\n",
       "      <td>view</td>\n",
       "      <td>248676</td>\n",
       "      <td>NaN</td>\n",
       "    </tr>\n",
       "    <tr>\n",
       "      <th>2</th>\n",
       "      <td>1433221999827</td>\n",
       "      <td>111016</td>\n",
       "      <td>view</td>\n",
       "      <td>318965</td>\n",
       "      <td>NaN</td>\n",
       "    </tr>\n",
       "    <tr>\n",
       "      <th>3</th>\n",
       "      <td>1433221955914</td>\n",
       "      <td>483717</td>\n",
       "      <td>view</td>\n",
       "      <td>253185</td>\n",
       "      <td>NaN</td>\n",
       "    </tr>\n",
       "    <tr>\n",
       "      <th>4</th>\n",
       "      <td>1433221337106</td>\n",
       "      <td>951259</td>\n",
       "      <td>view</td>\n",
       "      <td>367447</td>\n",
       "      <td>NaN</td>\n",
       "    </tr>\n",
       "    <tr>\n",
       "      <th>5</th>\n",
       "      <td>1433224086234</td>\n",
       "      <td>972639</td>\n",
       "      <td>view</td>\n",
       "      <td>22556</td>\n",
       "      <td>NaN</td>\n",
       "    </tr>\n",
       "    <tr>\n",
       "      <th>6</th>\n",
       "      <td>1433221923240</td>\n",
       "      <td>810725</td>\n",
       "      <td>view</td>\n",
       "      <td>443030</td>\n",
       "      <td>NaN</td>\n",
       "    </tr>\n",
       "    <tr>\n",
       "      <th>7</th>\n",
       "      <td>1433223291897</td>\n",
       "      <td>794181</td>\n",
       "      <td>view</td>\n",
       "      <td>439202</td>\n",
       "      <td>NaN</td>\n",
       "    </tr>\n",
       "    <tr>\n",
       "      <th>8</th>\n",
       "      <td>1433220899221</td>\n",
       "      <td>824915</td>\n",
       "      <td>view</td>\n",
       "      <td>428805</td>\n",
       "      <td>NaN</td>\n",
       "    </tr>\n",
       "    <tr>\n",
       "      <th>9</th>\n",
       "      <td>1433221204592</td>\n",
       "      <td>339335</td>\n",
       "      <td>view</td>\n",
       "      <td>82389</td>\n",
       "      <td>NaN</td>\n",
       "    </tr>\n",
       "  </tbody>\n",
       "</table>\n",
       "</div>"
      ],
      "text/plain": [
       "       timestamp  visitorid event  itemid  transactionid\n",
       "0  1433221332117     257597  view  355908            NaN\n",
       "1  1433224214164     992329  view  248676            NaN\n",
       "2  1433221999827     111016  view  318965            NaN\n",
       "3  1433221955914     483717  view  253185            NaN\n",
       "4  1433221337106     951259  view  367447            NaN\n",
       "5  1433224086234     972639  view   22556            NaN\n",
       "6  1433221923240     810725  view  443030            NaN\n",
       "7  1433223291897     794181  view  439202            NaN\n",
       "8  1433220899221     824915  view  428805            NaN\n",
       "9  1433221204592     339335  view   82389            NaN"
      ]
     },
     "execution_count": 4,
     "metadata": {},
     "output_type": "execute_result"
    }
   ],
   "source": [
    "event_df.head(10)"
   ]
  },
  {
   "cell_type": "markdown",
   "id": "0ba200d4",
   "metadata": {},
   "source": [
    "**item_df** is the availability and category of each item by timestamp. The timestamp meaning is uncertain so I will just be using the availability and category values. The values are mainly integers and floats except for the property value which indicates if the value column corresponds to the categoryid (kind of product) or the availability (0 = not available, 1 = available). This dataset can be liked with events_df by itemid."
   ]
  },
  {
   "cell_type": "code",
   "execution_count": 5,
   "id": "12b1d7e8",
   "metadata": {},
   "outputs": [
    {
     "name": "stdout",
     "output_type": "stream",
     "text": [
      "<class 'pandas.core.frame.DataFrame'>\n",
      "RangeIndex: 2291930 entries, 0 to 2291929\n",
      "Data columns (total 4 columns):\n",
      " #   Column     Dtype  \n",
      "---  ------     -----  \n",
      " 0   timestamp  int64  \n",
      " 1   itemid     int64  \n",
      " 2   property   object \n",
      " 3   value      float64\n",
      "dtypes: float64(1), int64(2), object(1)\n",
      "memory usage: 69.9+ MB\n"
     ]
    }
   ],
   "source": [
    "# item_df is the availability and category of each item by timestamp. \n",
    "item_df.info()\n"
   ]
  },
  {
   "cell_type": "code",
   "execution_count": 6,
   "id": "9c3774bc",
   "metadata": {},
   "outputs": [
    {
     "data": {
      "application/vnd.microsoft.datawrangler.viewer.v0+json": {
       "columns": [
        {
         "name": "index",
         "rawType": "int64",
         "type": "integer"
        },
        {
         "name": "timestamp",
         "rawType": "int64",
         "type": "integer"
        },
        {
         "name": "itemid",
         "rawType": "int64",
         "type": "integer"
        },
        {
         "name": "property",
         "rawType": "object",
         "type": "string"
        },
        {
         "name": "value",
         "rawType": "float64",
         "type": "float"
        }
       ],
       "ref": "a44d955b-4653-4d01-beff-ea9026b88a90",
       "rows": [
        [
         "0",
         "1435460400000",
         "460429",
         "categoryid",
         "1338.0"
        ],
        [
         "1",
         "1436065200000",
         "285026",
         "available",
         "0.0"
        ],
        [
         "2",
         "1437274800000",
         "186518",
         "available",
         "0.0"
        ],
        [
         "3",
         "1433646000000",
         "423682",
         "available",
         "0.0"
        ],
        [
         "4",
         "1434250800000",
         "316253",
         "available",
         "1.0"
        ],
        [
         "5",
         "1437274800000",
         "430459",
         "available",
         "0.0"
        ],
        [
         "6",
         "1433041200000",
         "411262",
         "available",
         "0.0"
        ],
        [
         "7",
         "1441508400000",
         "50372",
         "available",
         "0.0"
        ],
        [
         "8",
         "1441508400000",
         "289043",
         "available",
         "0.0"
        ],
        [
         "9",
         "1435460400000",
         "365407",
         "available",
         "0.0"
        ]
       ],
       "shape": {
        "columns": 4,
        "rows": 10
       }
      },
      "text/html": [
       "<div>\n",
       "<style scoped>\n",
       "    .dataframe tbody tr th:only-of-type {\n",
       "        vertical-align: middle;\n",
       "    }\n",
       "\n",
       "    .dataframe tbody tr th {\n",
       "        vertical-align: top;\n",
       "    }\n",
       "\n",
       "    .dataframe thead th {\n",
       "        text-align: right;\n",
       "    }\n",
       "</style>\n",
       "<table border=\"1\" class=\"dataframe\">\n",
       "  <thead>\n",
       "    <tr style=\"text-align: right;\">\n",
       "      <th></th>\n",
       "      <th>timestamp</th>\n",
       "      <th>itemid</th>\n",
       "      <th>property</th>\n",
       "      <th>value</th>\n",
       "    </tr>\n",
       "  </thead>\n",
       "  <tbody>\n",
       "    <tr>\n",
       "      <th>0</th>\n",
       "      <td>1435460400000</td>\n",
       "      <td>460429</td>\n",
       "      <td>categoryid</td>\n",
       "      <td>1338.0</td>\n",
       "    </tr>\n",
       "    <tr>\n",
       "      <th>1</th>\n",
       "      <td>1436065200000</td>\n",
       "      <td>285026</td>\n",
       "      <td>available</td>\n",
       "      <td>0.0</td>\n",
       "    </tr>\n",
       "    <tr>\n",
       "      <th>2</th>\n",
       "      <td>1437274800000</td>\n",
       "      <td>186518</td>\n",
       "      <td>available</td>\n",
       "      <td>0.0</td>\n",
       "    </tr>\n",
       "    <tr>\n",
       "      <th>3</th>\n",
       "      <td>1433646000000</td>\n",
       "      <td>423682</td>\n",
       "      <td>available</td>\n",
       "      <td>0.0</td>\n",
       "    </tr>\n",
       "    <tr>\n",
       "      <th>4</th>\n",
       "      <td>1434250800000</td>\n",
       "      <td>316253</td>\n",
       "      <td>available</td>\n",
       "      <td>1.0</td>\n",
       "    </tr>\n",
       "    <tr>\n",
       "      <th>5</th>\n",
       "      <td>1437274800000</td>\n",
       "      <td>430459</td>\n",
       "      <td>available</td>\n",
       "      <td>0.0</td>\n",
       "    </tr>\n",
       "    <tr>\n",
       "      <th>6</th>\n",
       "      <td>1433041200000</td>\n",
       "      <td>411262</td>\n",
       "      <td>available</td>\n",
       "      <td>0.0</td>\n",
       "    </tr>\n",
       "    <tr>\n",
       "      <th>7</th>\n",
       "      <td>1441508400000</td>\n",
       "      <td>50372</td>\n",
       "      <td>available</td>\n",
       "      <td>0.0</td>\n",
       "    </tr>\n",
       "    <tr>\n",
       "      <th>8</th>\n",
       "      <td>1441508400000</td>\n",
       "      <td>289043</td>\n",
       "      <td>available</td>\n",
       "      <td>0.0</td>\n",
       "    </tr>\n",
       "    <tr>\n",
       "      <th>9</th>\n",
       "      <td>1435460400000</td>\n",
       "      <td>365407</td>\n",
       "      <td>available</td>\n",
       "      <td>0.0</td>\n",
       "    </tr>\n",
       "  </tbody>\n",
       "</table>\n",
       "</div>"
      ],
      "text/plain": [
       "       timestamp  itemid    property   value\n",
       "0  1435460400000  460429  categoryid  1338.0\n",
       "1  1436065200000  285026   available     0.0\n",
       "2  1437274800000  186518   available     0.0\n",
       "3  1433646000000  423682   available     0.0\n",
       "4  1434250800000  316253   available     1.0\n",
       "5  1437274800000  430459   available     0.0\n",
       "6  1433041200000  411262   available     0.0\n",
       "7  1441508400000   50372   available     0.0\n",
       "8  1441508400000  289043   available     0.0\n",
       "9  1435460400000  365407   available     0.0"
      ]
     },
     "execution_count": 6,
     "metadata": {},
     "output_type": "execute_result"
    }
   ],
   "source": [
    "item_df.head(10)"
   ]
  },
  {
   "cell_type": "markdown",
   "id": "7f6b2616",
   "metadata": {},
   "source": [
    "**category_df** includes parent-child relationships between categories, and links a record's categoryid with the parent's categoryid. This could be connected to item_df by categoryid. It contains integer and float ids so will be easy to work with numerically."
   ]
  },
  {
   "cell_type": "code",
   "execution_count": 7,
   "id": "f9fc4204",
   "metadata": {},
   "outputs": [
    {
     "name": "stdout",
     "output_type": "stream",
     "text": [
      "<class 'pandas.core.frame.DataFrame'>\n",
      "RangeIndex: 1669 entries, 0 to 1668\n",
      "Data columns (total 2 columns):\n",
      " #   Column      Non-Null Count  Dtype  \n",
      "---  ------      --------------  -----  \n",
      " 0   categoryid  1669 non-null   int64  \n",
      " 1   parentid    1644 non-null   float64\n",
      "dtypes: float64(1), int64(1)\n",
      "memory usage: 26.2 KB\n"
     ]
    }
   ],
   "source": [
    "# category_df includes parent-child relationships between categories and can be linked with parentid to categoryid (?)\n",
    "category_df.info()"
   ]
  },
  {
   "cell_type": "code",
   "execution_count": 8,
   "id": "a89252ac",
   "metadata": {},
   "outputs": [
    {
     "data": {
      "application/vnd.microsoft.datawrangler.viewer.v0+json": {
       "columns": [
        {
         "name": "index",
         "rawType": "int64",
         "type": "integer"
        },
        {
         "name": "categoryid",
         "rawType": "int64",
         "type": "integer"
        },
        {
         "name": "parentid",
         "rawType": "float64",
         "type": "float"
        }
       ],
       "ref": "dd7ccd19-8338-416d-8ed1-9f90ad03c3bc",
       "rows": [
        [
         "0",
         "1016",
         "213.0"
        ],
        [
         "1",
         "809",
         "169.0"
        ],
        [
         "2",
         "570",
         "9.0"
        ],
        [
         "3",
         "1691",
         "885.0"
        ],
        [
         "4",
         "536",
         "1691.0"
        ],
        [
         "5",
         "231",
         null
        ],
        [
         "6",
         "542",
         "378.0"
        ],
        [
         "7",
         "1146",
         "542.0"
        ],
        [
         "8",
         "1140",
         "542.0"
        ],
        [
         "9",
         "1479",
         "1537.0"
        ]
       ],
       "shape": {
        "columns": 2,
        "rows": 10
       }
      },
      "text/html": [
       "<div>\n",
       "<style scoped>\n",
       "    .dataframe tbody tr th:only-of-type {\n",
       "        vertical-align: middle;\n",
       "    }\n",
       "\n",
       "    .dataframe tbody tr th {\n",
       "        vertical-align: top;\n",
       "    }\n",
       "\n",
       "    .dataframe thead th {\n",
       "        text-align: right;\n",
       "    }\n",
       "</style>\n",
       "<table border=\"1\" class=\"dataframe\">\n",
       "  <thead>\n",
       "    <tr style=\"text-align: right;\">\n",
       "      <th></th>\n",
       "      <th>categoryid</th>\n",
       "      <th>parentid</th>\n",
       "    </tr>\n",
       "  </thead>\n",
       "  <tbody>\n",
       "    <tr>\n",
       "      <th>0</th>\n",
       "      <td>1016</td>\n",
       "      <td>213.0</td>\n",
       "    </tr>\n",
       "    <tr>\n",
       "      <th>1</th>\n",
       "      <td>809</td>\n",
       "      <td>169.0</td>\n",
       "    </tr>\n",
       "    <tr>\n",
       "      <th>2</th>\n",
       "      <td>570</td>\n",
       "      <td>9.0</td>\n",
       "    </tr>\n",
       "    <tr>\n",
       "      <th>3</th>\n",
       "      <td>1691</td>\n",
       "      <td>885.0</td>\n",
       "    </tr>\n",
       "    <tr>\n",
       "      <th>4</th>\n",
       "      <td>536</td>\n",
       "      <td>1691.0</td>\n",
       "    </tr>\n",
       "    <tr>\n",
       "      <th>5</th>\n",
       "      <td>231</td>\n",
       "      <td>NaN</td>\n",
       "    </tr>\n",
       "    <tr>\n",
       "      <th>6</th>\n",
       "      <td>542</td>\n",
       "      <td>378.0</td>\n",
       "    </tr>\n",
       "    <tr>\n",
       "      <th>7</th>\n",
       "      <td>1146</td>\n",
       "      <td>542.0</td>\n",
       "    </tr>\n",
       "    <tr>\n",
       "      <th>8</th>\n",
       "      <td>1140</td>\n",
       "      <td>542.0</td>\n",
       "    </tr>\n",
       "    <tr>\n",
       "      <th>9</th>\n",
       "      <td>1479</td>\n",
       "      <td>1537.0</td>\n",
       "    </tr>\n",
       "  </tbody>\n",
       "</table>\n",
       "</div>"
      ],
      "text/plain": [
       "   categoryid  parentid\n",
       "0        1016     213.0\n",
       "1         809     169.0\n",
       "2         570       9.0\n",
       "3        1691     885.0\n",
       "4         536    1691.0\n",
       "5         231       NaN\n",
       "6         542     378.0\n",
       "7        1146     542.0\n",
       "8        1140     542.0\n",
       "9        1479    1537.0"
      ]
     },
     "execution_count": 8,
     "metadata": {},
     "output_type": "execute_result"
    }
   ],
   "source": [
    "category_df.head(10)"
   ]
  },
  {
   "cell_type": "markdown",
   "id": "97056a86",
   "metadata": {},
   "source": [
    "Now that I understand what the datasets contain and how they connect, I'm going to restructure the data to calculate the number of times each item was successfully puchased per week as the **weekly_sales_count** value. This is indicated by transactions in the event_df table, and will be used for the regression analysis to see what raw and engineered features correlate with this value."
   ]
  },
  {
   "cell_type": "code",
   "execution_count": 9,
   "id": "50e0a8e3",
   "metadata": {},
   "outputs": [
    {
     "name": "stdout",
     "output_type": "stream",
     "text": [
      "    itemid  timestamp  sales_count\n",
      "0       15 2015-07-12            1\n",
      "1       19 2015-08-16            1\n",
      "2       25 2015-06-14            1\n",
      "3       25 2015-08-09            1\n",
      "4       42 2015-08-16            1\n",
      "5      147 2015-09-06            4\n",
      "6      168 2015-09-20            1\n",
      "7      199 2015-07-19            1\n",
      "8      212 2015-06-21            1\n",
      "9      233 2015-06-21            1\n",
      "10     304 2015-09-20            1\n",
      "11     320 2015-06-21            1\n",
      "12     387 2015-08-09            1\n",
      "13     403 2015-06-14            1\n",
      "14     496 2015-06-14            1\n",
      "15     496 2015-06-21            1\n",
      "16     546 2015-07-26            3\n",
      "17     546 2015-08-02            5\n",
      "18     546 2015-08-09            2\n",
      "19     546 2015-08-16            2\n",
      "20     546 2015-08-23            9\n",
      "21     546 2015-08-30            2\n",
      "22     563 2015-07-26            1\n",
      "23     572 2015-06-21            1\n",
      "24     651 2015-06-07            1\n",
      "25     655 2015-08-02            1\n",
      "26     698 2015-09-13            1\n",
      "27     720 2015-08-23            1\n",
      "28     821 2015-06-07            1\n",
      "29     822 2015-08-16            1\n",
      "30     829 2015-05-03            1\n",
      "31     829 2015-05-17            1\n",
      "32     829 2015-05-24            2\n",
      "33     829 2015-05-31            1\n",
      "34     835 2015-09-20            1\n",
      "35     856 2015-09-13            1\n",
      "36     869 2015-07-05            2\n",
      "37     869 2015-07-12            1\n",
      "38     869 2015-08-02            1\n",
      "39     869 2015-08-16            1\n",
      "40     869 2015-08-23            1\n",
      "41     869 2015-09-06            1\n",
      "42     909 2015-06-28            1\n",
      "43     963 2015-09-20            1\n",
      "44    1022 2015-05-31            1\n",
      "45    1022 2015-07-05            1\n",
      "46    1035 2015-08-02            1\n",
      "47    1090 2015-08-02            1\n",
      "48    1115 2015-07-26            1\n",
      "49    1152 2015-06-28            1\n"
     ]
    }
   ],
   "source": [
    "# restructure dataset to calculate the number of times each item was successfully purchased per week (transaction event)\n",
    "\n",
    "#START[ChatGPT 4.o] \"i want to restructure a dataset to get the amount of successful purchases per item per week. here is my code now but it has this error, what am i doing wrong?\n",
    "# error: TypeError: Only valid with DatetimeIndex, TimedeltaIndex or PeriodIndex, but got an instance of 'Index'\n",
    "# code: weekly_sales_count = event_df[event_df['event'] == 'purchase'].groupby(['itemid', pd.Grouper(key='timestamp', freq='W')]).size().reset_index(name='sales_count')\"\n",
    "event_df['timestamp'] = pd.to_datetime(event_df['timestamp'], unit='ms')   # changing timestamp column to datetime format with milliseconds unit, otherwise all the dates will be the same\n",
    "#END[ChatGPT 4.o]\n",
    "\n",
    "# target variable for regression model\n",
    "weekly_sales_count = event_df[event_df['event'] == 'transaction'].groupby(['itemid', pd.Grouper(key='timestamp', freq='W')]).size().reset_index(name='sales_count')\n",
    "\n",
    "# check out our results\n",
    "print(weekly_sales_count.head(50))\n"
   ]
  },
  {
   "cell_type": "markdown",
   "id": "8184bce9",
   "metadata": {},
   "source": [
    "## 2. Engineering features\n",
    "Your second task is to **engineer features** from the dataset that may help predict weekly sales. You are required to create features from the following categories:"
   ]
  },
  {
   "cell_type": "markdown",
   "id": "3da39900",
   "metadata": {},
   "source": [
    "### Temporal Features (choose at least 2)\n",
    "\n",
    "- `day_of_week`: Day when events occurred (1 = Monday, ..., 7 = Sunday)\n",
    "- `week_of_month`: Week number within the calendar month\n",
    "- `weeks_after_availability`: Weeks since the item became available\n",
    "- `time_of_day_view/add`: Counts of views/adds during morning, afternoon, or night"
   ]
  },
  {
   "cell_type": "markdown",
   "id": "982625e3",
   "metadata": {},
   "source": [
    "First I will one-hot encode the days of the week because I am interested in when people are online shopping the most. I would assume that it is less during the week when most people are at work, and more on weekends, however online shopping is possible to do from anywhere so people could be shopping at work as well. "
   ]
  },
  {
   "cell_type": "code",
   "execution_count": null,
   "id": "22e6e319",
   "metadata": {},
   "outputs": [
    {
     "data": {
      "application/vnd.microsoft.datawrangler.viewer.v0+json": {
       "columns": [
        {
         "name": "index",
         "rawType": "int64",
         "type": "integer"
        },
        {
         "name": "timestamp",
         "rawType": "datetime64[ns]",
         "type": "datetime"
        },
        {
         "name": "visitorid",
         "rawType": "int64",
         "type": "integer"
        },
        {
         "name": "event",
         "rawType": "object",
         "type": "string"
        },
        {
         "name": "itemid",
         "rawType": "int64",
         "type": "integer"
        },
        {
         "name": "transactionid",
         "rawType": "float64",
         "type": "float"
        },
        {
         "name": "day_of_week",
         "rawType": "int64",
         "type": "integer"
        }
       ],
       "ref": "67ffcd0e-f5f1-4e6a-a263-6399292c3d30",
       "rows": [
        [
         "0",
         "2015-06-02 05:02:12.117000",
         "257597",
         "view",
         "355908",
         null,
         "2"
        ],
        [
         "1",
         "2015-06-02 05:50:14.164000",
         "992329",
         "view",
         "248676",
         null,
         "2"
        ],
        [
         "2",
         "2015-06-02 05:13:19.827000",
         "111016",
         "view",
         "318965",
         null,
         "2"
        ],
        [
         "3",
         "2015-06-02 05:12:35.914000",
         "483717",
         "view",
         "253185",
         null,
         "2"
        ],
        [
         "4",
         "2015-06-02 05:02:17.106000",
         "951259",
         "view",
         "367447",
         null,
         "2"
        ],
        [
         "5",
         "2015-06-02 05:48:06.234000",
         "972639",
         "view",
         "22556",
         null,
         "2"
        ],
        [
         "6",
         "2015-06-02 05:12:03.240000",
         "810725",
         "view",
         "443030",
         null,
         "2"
        ],
        [
         "7",
         "2015-06-02 05:34:51.897000",
         "794181",
         "view",
         "439202",
         null,
         "2"
        ],
        [
         "8",
         "2015-06-02 04:54:59.221000",
         "824915",
         "view",
         "428805",
         null,
         "2"
        ],
        [
         "9",
         "2015-06-02 05:00:04.592000",
         "339335",
         "view",
         "82389",
         null,
         "2"
        ]
       ],
       "shape": {
        "columns": 6,
        "rows": 10
       }
      },
      "text/html": [
       "<div>\n",
       "<style scoped>\n",
       "    .dataframe tbody tr th:only-of-type {\n",
       "        vertical-align: middle;\n",
       "    }\n",
       "\n",
       "    .dataframe tbody tr th {\n",
       "        vertical-align: top;\n",
       "    }\n",
       "\n",
       "    .dataframe thead th {\n",
       "        text-align: right;\n",
       "    }\n",
       "</style>\n",
       "<table border=\"1\" class=\"dataframe\">\n",
       "  <thead>\n",
       "    <tr style=\"text-align: right;\">\n",
       "      <th></th>\n",
       "      <th>timestamp</th>\n",
       "      <th>visitorid</th>\n",
       "      <th>event</th>\n",
       "      <th>itemid</th>\n",
       "      <th>transactionid</th>\n",
       "      <th>day_of_week</th>\n",
       "    </tr>\n",
       "  </thead>\n",
       "  <tbody>\n",
       "    <tr>\n",
       "      <th>0</th>\n",
       "      <td>2015-06-02 05:02:12.117</td>\n",
       "      <td>257597</td>\n",
       "      <td>view</td>\n",
       "      <td>355908</td>\n",
       "      <td>NaN</td>\n",
       "      <td>2</td>\n",
       "    </tr>\n",
       "    <tr>\n",
       "      <th>1</th>\n",
       "      <td>2015-06-02 05:50:14.164</td>\n",
       "      <td>992329</td>\n",
       "      <td>view</td>\n",
       "      <td>248676</td>\n",
       "      <td>NaN</td>\n",
       "      <td>2</td>\n",
       "    </tr>\n",
       "    <tr>\n",
       "      <th>2</th>\n",
       "      <td>2015-06-02 05:13:19.827</td>\n",
       "      <td>111016</td>\n",
       "      <td>view</td>\n",
       "      <td>318965</td>\n",
       "      <td>NaN</td>\n",
       "      <td>2</td>\n",
       "    </tr>\n",
       "    <tr>\n",
       "      <th>3</th>\n",
       "      <td>2015-06-02 05:12:35.914</td>\n",
       "      <td>483717</td>\n",
       "      <td>view</td>\n",
       "      <td>253185</td>\n",
       "      <td>NaN</td>\n",
       "      <td>2</td>\n",
       "    </tr>\n",
       "    <tr>\n",
       "      <th>4</th>\n",
       "      <td>2015-06-02 05:02:17.106</td>\n",
       "      <td>951259</td>\n",
       "      <td>view</td>\n",
       "      <td>367447</td>\n",
       "      <td>NaN</td>\n",
       "      <td>2</td>\n",
       "    </tr>\n",
       "    <tr>\n",
       "      <th>5</th>\n",
       "      <td>2015-06-02 05:48:06.234</td>\n",
       "      <td>972639</td>\n",
       "      <td>view</td>\n",
       "      <td>22556</td>\n",
       "      <td>NaN</td>\n",
       "      <td>2</td>\n",
       "    </tr>\n",
       "    <tr>\n",
       "      <th>6</th>\n",
       "      <td>2015-06-02 05:12:03.240</td>\n",
       "      <td>810725</td>\n",
       "      <td>view</td>\n",
       "      <td>443030</td>\n",
       "      <td>NaN</td>\n",
       "      <td>2</td>\n",
       "    </tr>\n",
       "    <tr>\n",
       "      <th>7</th>\n",
       "      <td>2015-06-02 05:34:51.897</td>\n",
       "      <td>794181</td>\n",
       "      <td>view</td>\n",
       "      <td>439202</td>\n",
       "      <td>NaN</td>\n",
       "      <td>2</td>\n",
       "    </tr>\n",
       "    <tr>\n",
       "      <th>8</th>\n",
       "      <td>2015-06-02 04:54:59.221</td>\n",
       "      <td>824915</td>\n",
       "      <td>view</td>\n",
       "      <td>428805</td>\n",
       "      <td>NaN</td>\n",
       "      <td>2</td>\n",
       "    </tr>\n",
       "    <tr>\n",
       "      <th>9</th>\n",
       "      <td>2015-06-02 05:00:04.592</td>\n",
       "      <td>339335</td>\n",
       "      <td>view</td>\n",
       "      <td>82389</td>\n",
       "      <td>NaN</td>\n",
       "      <td>2</td>\n",
       "    </tr>\n",
       "  </tbody>\n",
       "</table>\n",
       "</div>"
      ],
      "text/plain": [
       "                timestamp  visitorid event  itemid  transactionid  day_of_week\n",
       "0 2015-06-02 05:02:12.117     257597  view  355908            NaN            2\n",
       "1 2015-06-02 05:50:14.164     992329  view  248676            NaN            2\n",
       "2 2015-06-02 05:13:19.827     111016  view  318965            NaN            2\n",
       "3 2015-06-02 05:12:35.914     483717  view  253185            NaN            2\n",
       "4 2015-06-02 05:02:17.106     951259  view  367447            NaN            2\n",
       "5 2015-06-02 05:48:06.234     972639  view   22556            NaN            2\n",
       "6 2015-06-02 05:12:03.240     810725  view  443030            NaN            2\n",
       "7 2015-06-02 05:34:51.897     794181  view  439202            NaN            2\n",
       "8 2015-06-02 04:54:59.221     824915  view  428805            NaN            2\n",
       "9 2015-06-02 05:00:04.592     339335  view   82389            NaN            2"
      ]
     },
     "execution_count": 10,
     "metadata": {},
     "output_type": "execute_result"
    }
   ],
   "source": [
    "# encode days of the week in copy of event_df\n",
    "\n",
    "#START[ChatGPT 4.o] \"i have a dataset with timestamps in this format: 1970-01-01 00:23:53.197648801 how would i one hot encode these so there are columns for each day of the week with a 1 if it is that day and 0 if not? here is my code so far:\n",
    "# event_df_copy = event_df.copy()\n",
    "# event_df_copy['day_of_week'] = event_df_copy['timestamp'].dt.day_name()\n",
    "# event_df_copy = pd.get_dummies(event_df_copy, columns=['day_of_week'], drop_first=True)\"\n",
    "# one hot encoding version\n",
    "# event_df_copy = event_df.copy() # don't need to convert to timestamp again since we already did it above\n",
    "# event_df_copy['day_of_week'] = event_df_copy['timestamp'].dt.day_name() # get day of the week from timestamp\n",
    "# event_df_copy = pd.get_dummies(event_df_copy, columns=['day_of_week'], drop_first=False) #one-hot encode days of week\n",
    "# END[ChatGPT 4.o]\n",
    "\n",
    "event_df_copy = event_df.copy() # don't need to convert to timestamp again since we already did it above\n",
    "# START[ChatGPT 4.o] \"can i change this from one hot encoding to have a day of the week column with 1 for monday to 7 for sunday?\"\n",
    "event_df_copy['day_of_week'] = event_df_copy['timestamp'].dt.weekday + 1 # days numbered 1-7, where 1 is monday and 7 is sunday\n",
    "# END[ChatGPT 4.o]\n",
    "\n",
    "event_df_copy.head(10)"
   ]
  },
  {
   "cell_type": "markdown",
   "id": "73c9fe79",
   "metadata": {},
   "source": [
    "To compliment the days of the week feature, I want to look into the time of day people are most actively online shopping which would be demonstrated by their views and adds to cart. This will help fill in the picture of when people are shopping the most. Comparing the views and adds to cart with the actual transactions per week will give an indication as to when people are window-shopping for entertainment or to kill time, and when they are following through on making purchases."
   ]
  },
  {
   "cell_type": "code",
   "execution_count": 28,
   "id": "e4f87cfb",
   "metadata": {},
   "outputs": [
    {
     "data": {
      "application/vnd.microsoft.datawrangler.viewer.v0+json": {
       "columns": [
        {
         "name": "index",
         "rawType": "int64",
         "type": "integer"
        },
        {
         "name": "timestamp",
         "rawType": "datetime64[ns]",
         "type": "datetime"
        },
        {
         "name": "visitorid",
         "rawType": "int64",
         "type": "integer"
        },
        {
         "name": "event",
         "rawType": "object",
         "type": "string"
        },
        {
         "name": "itemid",
         "rawType": "int64",
         "type": "integer"
        },
        {
         "name": "transactionid",
         "rawType": "float64",
         "type": "float"
        },
        {
         "name": "day_of_week",
         "rawType": "int64",
         "type": "integer"
        },
        {
         "name": "hour",
         "rawType": "int32",
         "type": "integer"
        },
        {
         "name": "time_of_day",
         "rawType": "object",
         "type": "string"
        }
       ],
       "ref": "b840de4b-7e51-417a-9cf9-e836821a5b03",
       "rows": [
        [
         "0",
         "2015-06-02 05:02:12.117000",
         "257597",
         "view",
         "355908",
         null,
         "2",
         "5",
         "night"
        ],
        [
         "1",
         "2015-06-02 05:50:14.164000",
         "992329",
         "view",
         "248676",
         null,
         "2",
         "5",
         "night"
        ],
        [
         "2",
         "2015-06-02 05:13:19.827000",
         "111016",
         "view",
         "318965",
         null,
         "2",
         "5",
         "night"
        ],
        [
         "3",
         "2015-06-02 05:12:35.914000",
         "483717",
         "view",
         "253185",
         null,
         "2",
         "5",
         "night"
        ],
        [
         "4",
         "2015-06-02 05:02:17.106000",
         "951259",
         "view",
         "367447",
         null,
         "2",
         "5",
         "night"
        ],
        [
         "5",
         "2015-06-02 05:48:06.234000",
         "972639",
         "view",
         "22556",
         null,
         "2",
         "5",
         "night"
        ],
        [
         "6",
         "2015-06-02 05:12:03.240000",
         "810725",
         "view",
         "443030",
         null,
         "2",
         "5",
         "night"
        ],
        [
         "7",
         "2015-06-02 05:34:51.897000",
         "794181",
         "view",
         "439202",
         null,
         "2",
         "5",
         "night"
        ],
        [
         "8",
         "2015-06-02 04:54:59.221000",
         "824915",
         "view",
         "428805",
         null,
         "2",
         "4",
         "night"
        ],
        [
         "9",
         "2015-06-02 05:00:04.592000",
         "339335",
         "view",
         "82389",
         null,
         "2",
         "5",
         "night"
        ]
       ],
       "shape": {
        "columns": 8,
        "rows": 10
       }
      },
      "text/html": [
       "<div>\n",
       "<style scoped>\n",
       "    .dataframe tbody tr th:only-of-type {\n",
       "        vertical-align: middle;\n",
       "    }\n",
       "\n",
       "    .dataframe tbody tr th {\n",
       "        vertical-align: top;\n",
       "    }\n",
       "\n",
       "    .dataframe thead th {\n",
       "        text-align: right;\n",
       "    }\n",
       "</style>\n",
       "<table border=\"1\" class=\"dataframe\">\n",
       "  <thead>\n",
       "    <tr style=\"text-align: right;\">\n",
       "      <th></th>\n",
       "      <th>timestamp</th>\n",
       "      <th>visitorid</th>\n",
       "      <th>event</th>\n",
       "      <th>itemid</th>\n",
       "      <th>transactionid</th>\n",
       "      <th>day_of_week</th>\n",
       "      <th>hour</th>\n",
       "      <th>time_of_day</th>\n",
       "    </tr>\n",
       "  </thead>\n",
       "  <tbody>\n",
       "    <tr>\n",
       "      <th>0</th>\n",
       "      <td>2015-06-02 05:02:12.117</td>\n",
       "      <td>257597</td>\n",
       "      <td>view</td>\n",
       "      <td>355908</td>\n",
       "      <td>NaN</td>\n",
       "      <td>2</td>\n",
       "      <td>5</td>\n",
       "      <td>night</td>\n",
       "    </tr>\n",
       "    <tr>\n",
       "      <th>1</th>\n",
       "      <td>2015-06-02 05:50:14.164</td>\n",
       "      <td>992329</td>\n",
       "      <td>view</td>\n",
       "      <td>248676</td>\n",
       "      <td>NaN</td>\n",
       "      <td>2</td>\n",
       "      <td>5</td>\n",
       "      <td>night</td>\n",
       "    </tr>\n",
       "    <tr>\n",
       "      <th>2</th>\n",
       "      <td>2015-06-02 05:13:19.827</td>\n",
       "      <td>111016</td>\n",
       "      <td>view</td>\n",
       "      <td>318965</td>\n",
       "      <td>NaN</td>\n",
       "      <td>2</td>\n",
       "      <td>5</td>\n",
       "      <td>night</td>\n",
       "    </tr>\n",
       "    <tr>\n",
       "      <th>3</th>\n",
       "      <td>2015-06-02 05:12:35.914</td>\n",
       "      <td>483717</td>\n",
       "      <td>view</td>\n",
       "      <td>253185</td>\n",
       "      <td>NaN</td>\n",
       "      <td>2</td>\n",
       "      <td>5</td>\n",
       "      <td>night</td>\n",
       "    </tr>\n",
       "    <tr>\n",
       "      <th>4</th>\n",
       "      <td>2015-06-02 05:02:17.106</td>\n",
       "      <td>951259</td>\n",
       "      <td>view</td>\n",
       "      <td>367447</td>\n",
       "      <td>NaN</td>\n",
       "      <td>2</td>\n",
       "      <td>5</td>\n",
       "      <td>night</td>\n",
       "    </tr>\n",
       "    <tr>\n",
       "      <th>5</th>\n",
       "      <td>2015-06-02 05:48:06.234</td>\n",
       "      <td>972639</td>\n",
       "      <td>view</td>\n",
       "      <td>22556</td>\n",
       "      <td>NaN</td>\n",
       "      <td>2</td>\n",
       "      <td>5</td>\n",
       "      <td>night</td>\n",
       "    </tr>\n",
       "    <tr>\n",
       "      <th>6</th>\n",
       "      <td>2015-06-02 05:12:03.240</td>\n",
       "      <td>810725</td>\n",
       "      <td>view</td>\n",
       "      <td>443030</td>\n",
       "      <td>NaN</td>\n",
       "      <td>2</td>\n",
       "      <td>5</td>\n",
       "      <td>night</td>\n",
       "    </tr>\n",
       "    <tr>\n",
       "      <th>7</th>\n",
       "      <td>2015-06-02 05:34:51.897</td>\n",
       "      <td>794181</td>\n",
       "      <td>view</td>\n",
       "      <td>439202</td>\n",
       "      <td>NaN</td>\n",
       "      <td>2</td>\n",
       "      <td>5</td>\n",
       "      <td>night</td>\n",
       "    </tr>\n",
       "    <tr>\n",
       "      <th>8</th>\n",
       "      <td>2015-06-02 04:54:59.221</td>\n",
       "      <td>824915</td>\n",
       "      <td>view</td>\n",
       "      <td>428805</td>\n",
       "      <td>NaN</td>\n",
       "      <td>2</td>\n",
       "      <td>4</td>\n",
       "      <td>night</td>\n",
       "    </tr>\n",
       "    <tr>\n",
       "      <th>9</th>\n",
       "      <td>2015-06-02 05:00:04.592</td>\n",
       "      <td>339335</td>\n",
       "      <td>view</td>\n",
       "      <td>82389</td>\n",
       "      <td>NaN</td>\n",
       "      <td>2</td>\n",
       "      <td>5</td>\n",
       "      <td>night</td>\n",
       "    </tr>\n",
       "  </tbody>\n",
       "</table>\n",
       "</div>"
      ],
      "text/plain": [
       "                timestamp  visitorid event  itemid  transactionid  \\\n",
       "0 2015-06-02 05:02:12.117     257597  view  355908            NaN   \n",
       "1 2015-06-02 05:50:14.164     992329  view  248676            NaN   \n",
       "2 2015-06-02 05:13:19.827     111016  view  318965            NaN   \n",
       "3 2015-06-02 05:12:35.914     483717  view  253185            NaN   \n",
       "4 2015-06-02 05:02:17.106     951259  view  367447            NaN   \n",
       "5 2015-06-02 05:48:06.234     972639  view   22556            NaN   \n",
       "6 2015-06-02 05:12:03.240     810725  view  443030            NaN   \n",
       "7 2015-06-02 05:34:51.897     794181  view  439202            NaN   \n",
       "8 2015-06-02 04:54:59.221     824915  view  428805            NaN   \n",
       "9 2015-06-02 05:00:04.592     339335  view   82389            NaN   \n",
       "\n",
       "   day_of_week  hour time_of_day  \n",
       "0            2     5       night  \n",
       "1            2     5       night  \n",
       "2            2     5       night  \n",
       "3            2     5       night  \n",
       "4            2     5       night  \n",
       "5            2     5       night  \n",
       "6            2     5       night  \n",
       "7            2     5       night  \n",
       "8            2     4       night  \n",
       "9            2     5       night  "
      ]
     },
     "execution_count": 28,
     "metadata": {},
     "output_type": "execute_result"
    }
   ],
   "source": [
    "# get counts of views and adds per item per time period\n",
    "# morning is 6am-12pm, afternoon is 12pm-6pm, night is 12am-6am - four even time periods of 6 hours each\n",
    "\n",
    "# START[ChatGPT 4.o] \"i have a dataset with a log of ecommerce data. i want to get counts of views and adds per item per time period. there is a timestamp column and an event column with values view, addtocart, transaction. for time periods, morning is 6am-12pm, afternoon is 12pm-6pm, night is 6pm-6am. my dataframe in python is called events_df_copy. how would i do this?\"\n",
    "\n",
    "def get_time_period(hour):\n",
    "    if 0 <= hour < 6:\n",
    "        return 'night'\n",
    "    elif 6 <= hour < 12:\n",
    "        return 'morning'\n",
    "    elif 12 <= hour < 18:\n",
    "        return 'afternoon'\n",
    "    else:\n",
    "        return 'evening'\n",
    "\n",
    "event_df_copy['hour'] = event_df_copy['timestamp'].dt.hour # makes hour column of time hours in 24 hr format\n",
    "event_df_copy['time_of_day'] = event_df_copy['hour'].apply(get_time_period) # categorizes hour into time of day (morning, afternoon, night)\n",
    "\n",
    "# only look at view and addtocart events\n",
    "views_df = event_df_copy[event_df_copy['event'] == 'view']\n",
    "adds_df = event_df_copy[event_df_copy['event'] == 'addtocart']\n",
    "\n",
    "# Table of view counts per item per time of day\n",
    "view_counts = views_df.groupby(['itemid', 'time_of_day']).size().unstack(fill_value=0)\n",
    "\n",
    "# Table of addtocart counts per item per time of day\n",
    "add_counts = adds_df.groupby(['itemid', 'time_of_day']).size().unstack(fill_value=0)\n",
    "\n",
    "# END[ChatGPT 4.o]\n",
    "\n",
    "event_df_copy.head(10)"
   ]
  },
  {
   "cell_type": "markdown",
   "id": "1e8e8c0b",
   "metadata": {},
   "source": [
    "In the above code I added labels for time of day with morning as 5am-12pm, afternoon as 12pm-7pm, and night as 7pm-5am. This allows me to see the afternoon, morning, and night activity for views and addtocarts per item in the newly created dataframes. I can also just aggregate them from the event_df_copy dataframe using the time_of_day or hour column."
   ]
  },
  {
   "cell_type": "code",
   "execution_count": 29,
   "id": "483bb3c4",
   "metadata": {},
   "outputs": [
    {
     "data": {
      "application/vnd.microsoft.datawrangler.viewer.v0+json": {
       "columns": [
        {
         "name": "itemid",
         "rawType": "int64",
         "type": "integer"
        },
        {
         "name": "afternoon",
         "rawType": "int64",
         "type": "integer"
        },
        {
         "name": "evening",
         "rawType": "int64",
         "type": "integer"
        },
        {
         "name": "morning",
         "rawType": "int64",
         "type": "integer"
        },
        {
         "name": "night",
         "rawType": "int64",
         "type": "integer"
        }
       ],
       "ref": "d43569e1-9633-4e3e-a341-6213a263ad77",
       "rows": [
        [
         "3",
         "1",
         "1",
         "0",
         "0"
        ],
        [
         "4",
         "0",
         "2",
         "1",
         "0"
        ],
        [
         "6",
         "8",
         "11",
         "2",
         "8"
        ],
        [
         "9",
         "0",
         "1",
         "0",
         "1"
        ],
        [
         "15",
         "4",
         "11",
         "1",
         "2"
        ],
        [
         "16",
         "5",
         "4",
         "1",
         "5"
        ],
        [
         "17",
         "2",
         "1",
         "0",
         "0"
        ],
        [
         "19",
         "5",
         "6",
         "0",
         "5"
        ],
        [
         "22",
         "2",
         "0",
         "0",
         "0"
        ],
        [
         "24",
         "0",
         "0",
         "0",
         "1"
        ]
       ],
       "shape": {
        "columns": 4,
        "rows": 10
       }
      },
      "text/html": [
       "<div>\n",
       "<style scoped>\n",
       "    .dataframe tbody tr th:only-of-type {\n",
       "        vertical-align: middle;\n",
       "    }\n",
       "\n",
       "    .dataframe tbody tr th {\n",
       "        vertical-align: top;\n",
       "    }\n",
       "\n",
       "    .dataframe thead th {\n",
       "        text-align: right;\n",
       "    }\n",
       "</style>\n",
       "<table border=\"1\" class=\"dataframe\">\n",
       "  <thead>\n",
       "    <tr style=\"text-align: right;\">\n",
       "      <th>time_of_day</th>\n",
       "      <th>afternoon</th>\n",
       "      <th>evening</th>\n",
       "      <th>morning</th>\n",
       "      <th>night</th>\n",
       "    </tr>\n",
       "    <tr>\n",
       "      <th>itemid</th>\n",
       "      <th></th>\n",
       "      <th></th>\n",
       "      <th></th>\n",
       "      <th></th>\n",
       "    </tr>\n",
       "  </thead>\n",
       "  <tbody>\n",
       "    <tr>\n",
       "      <th>3</th>\n",
       "      <td>1</td>\n",
       "      <td>1</td>\n",
       "      <td>0</td>\n",
       "      <td>0</td>\n",
       "    </tr>\n",
       "    <tr>\n",
       "      <th>4</th>\n",
       "      <td>0</td>\n",
       "      <td>2</td>\n",
       "      <td>1</td>\n",
       "      <td>0</td>\n",
       "    </tr>\n",
       "    <tr>\n",
       "      <th>6</th>\n",
       "      <td>8</td>\n",
       "      <td>11</td>\n",
       "      <td>2</td>\n",
       "      <td>8</td>\n",
       "    </tr>\n",
       "    <tr>\n",
       "      <th>9</th>\n",
       "      <td>0</td>\n",
       "      <td>1</td>\n",
       "      <td>0</td>\n",
       "      <td>1</td>\n",
       "    </tr>\n",
       "    <tr>\n",
       "      <th>15</th>\n",
       "      <td>4</td>\n",
       "      <td>11</td>\n",
       "      <td>1</td>\n",
       "      <td>2</td>\n",
       "    </tr>\n",
       "    <tr>\n",
       "      <th>16</th>\n",
       "      <td>5</td>\n",
       "      <td>4</td>\n",
       "      <td>1</td>\n",
       "      <td>5</td>\n",
       "    </tr>\n",
       "    <tr>\n",
       "      <th>17</th>\n",
       "      <td>2</td>\n",
       "      <td>1</td>\n",
       "      <td>0</td>\n",
       "      <td>0</td>\n",
       "    </tr>\n",
       "    <tr>\n",
       "      <th>19</th>\n",
       "      <td>5</td>\n",
       "      <td>6</td>\n",
       "      <td>0</td>\n",
       "      <td>5</td>\n",
       "    </tr>\n",
       "    <tr>\n",
       "      <th>22</th>\n",
       "      <td>2</td>\n",
       "      <td>0</td>\n",
       "      <td>0</td>\n",
       "      <td>0</td>\n",
       "    </tr>\n",
       "    <tr>\n",
       "      <th>24</th>\n",
       "      <td>0</td>\n",
       "      <td>0</td>\n",
       "      <td>0</td>\n",
       "      <td>1</td>\n",
       "    </tr>\n",
       "  </tbody>\n",
       "</table>\n",
       "</div>"
      ],
      "text/plain": [
       "time_of_day  afternoon  evening  morning  night\n",
       "itemid                                         \n",
       "3                    1        1        0      0\n",
       "4                    0        2        1      0\n",
       "6                    8       11        2      8\n",
       "9                    0        1        0      1\n",
       "15                   4       11        1      2\n",
       "16                   5        4        1      5\n",
       "17                   2        1        0      0\n",
       "19                   5        6        0      5\n",
       "22                   2        0        0      0\n",
       "24                   0        0        0      1"
      ]
     },
     "execution_count": 29,
     "metadata": {},
     "output_type": "execute_result"
    }
   ],
   "source": [
    "view_counts.head(10)"
   ]
  },
  {
   "cell_type": "code",
   "execution_count": 30,
   "id": "5d9f715f",
   "metadata": {},
   "outputs": [
    {
     "data": {
      "application/vnd.microsoft.datawrangler.viewer.v0+json": {
       "columns": [
        {
         "name": "index",
         "rawType": "object",
         "type": "string"
        },
        {
         "name": "afternoon",
         "rawType": "float64",
         "type": "float"
        },
        {
         "name": "evening",
         "rawType": "float64",
         "type": "float"
        },
        {
         "name": "morning",
         "rawType": "float64",
         "type": "float"
        },
        {
         "name": "night",
         "rawType": "float64",
         "type": "float"
        }
       ],
       "ref": "6b441aa7-03e4-4ae7-b719-19103cb01716",
       "rows": [
        [
         "count",
         "234838.0",
         "234838.0",
         "234838.0",
         "234838.0"
        ],
        [
         "mean",
         "2.6110850884439487",
         "4.3971844420408965",
         "0.831786167485671",
         "3.50526320271847"
        ],
        [
         "std",
         "8.391096226939657",
         "13.870214439850795",
         "2.772179955618284",
         "11.556773295011014"
        ],
        [
         "min",
         "0.0",
         "0.0",
         "0.0",
         "0.0"
        ],
        [
         "25%",
         "0.0",
         "0.0",
         "0.0",
         "0.0"
        ],
        [
         "50%",
         "1.0",
         "1.0",
         "0.0",
         "1.0"
        ],
        [
         "75%",
         "2.0",
         "3.0",
         "1.0",
         "3.0"
        ],
        [
         "max",
         "852.0",
         "1267.0",
         "250.0",
         "1293.0"
        ]
       ],
       "shape": {
        "columns": 4,
        "rows": 8
       }
      },
      "text/html": [
       "<div>\n",
       "<style scoped>\n",
       "    .dataframe tbody tr th:only-of-type {\n",
       "        vertical-align: middle;\n",
       "    }\n",
       "\n",
       "    .dataframe tbody tr th {\n",
       "        vertical-align: top;\n",
       "    }\n",
       "\n",
       "    .dataframe thead th {\n",
       "        text-align: right;\n",
       "    }\n",
       "</style>\n",
       "<table border=\"1\" class=\"dataframe\">\n",
       "  <thead>\n",
       "    <tr style=\"text-align: right;\">\n",
       "      <th>time_of_day</th>\n",
       "      <th>afternoon</th>\n",
       "      <th>evening</th>\n",
       "      <th>morning</th>\n",
       "      <th>night</th>\n",
       "    </tr>\n",
       "  </thead>\n",
       "  <tbody>\n",
       "    <tr>\n",
       "      <th>count</th>\n",
       "      <td>234838.000000</td>\n",
       "      <td>234838.000000</td>\n",
       "      <td>234838.000000</td>\n",
       "      <td>234838.000000</td>\n",
       "    </tr>\n",
       "    <tr>\n",
       "      <th>mean</th>\n",
       "      <td>2.611085</td>\n",
       "      <td>4.397184</td>\n",
       "      <td>0.831786</td>\n",
       "      <td>3.505263</td>\n",
       "    </tr>\n",
       "    <tr>\n",
       "      <th>std</th>\n",
       "      <td>8.391096</td>\n",
       "      <td>13.870214</td>\n",
       "      <td>2.772180</td>\n",
       "      <td>11.556773</td>\n",
       "    </tr>\n",
       "    <tr>\n",
       "      <th>min</th>\n",
       "      <td>0.000000</td>\n",
       "      <td>0.000000</td>\n",
       "      <td>0.000000</td>\n",
       "      <td>0.000000</td>\n",
       "    </tr>\n",
       "    <tr>\n",
       "      <th>25%</th>\n",
       "      <td>0.000000</td>\n",
       "      <td>0.000000</td>\n",
       "      <td>0.000000</td>\n",
       "      <td>0.000000</td>\n",
       "    </tr>\n",
       "    <tr>\n",
       "      <th>50%</th>\n",
       "      <td>1.000000</td>\n",
       "      <td>1.000000</td>\n",
       "      <td>0.000000</td>\n",
       "      <td>1.000000</td>\n",
       "    </tr>\n",
       "    <tr>\n",
       "      <th>75%</th>\n",
       "      <td>2.000000</td>\n",
       "      <td>3.000000</td>\n",
       "      <td>1.000000</td>\n",
       "      <td>3.000000</td>\n",
       "    </tr>\n",
       "    <tr>\n",
       "      <th>max</th>\n",
       "      <td>852.000000</td>\n",
       "      <td>1267.000000</td>\n",
       "      <td>250.000000</td>\n",
       "      <td>1293.000000</td>\n",
       "    </tr>\n",
       "  </tbody>\n",
       "</table>\n",
       "</div>"
      ],
      "text/plain": [
       "time_of_day      afternoon        evening        morning          night\n",
       "count        234838.000000  234838.000000  234838.000000  234838.000000\n",
       "mean              2.611085       4.397184       0.831786       3.505263\n",
       "std               8.391096      13.870214       2.772180      11.556773\n",
       "min               0.000000       0.000000       0.000000       0.000000\n",
       "25%               0.000000       0.000000       0.000000       0.000000\n",
       "50%               1.000000       1.000000       0.000000       1.000000\n",
       "75%               2.000000       3.000000       1.000000       3.000000\n",
       "max             852.000000    1267.000000     250.000000    1293.000000"
      ]
     },
     "execution_count": 30,
     "metadata": {},
     "output_type": "execute_result"
    }
   ],
   "source": [
    "view_counts.describe()"
   ]
  },
  {
   "cell_type": "markdown",
   "id": "e9f57677",
   "metadata": {},
   "source": [
    "This quick analysis shows us that on average, the most views per product are happening at night, as the mean is highest by far with 4.39 in the evening, compared to 0.83 views per product in the morning, 2.61 views per product in the afternoon, and 3.50 views per product at night. Let's check how this relates to the addtocart counts."
   ]
  },
  {
   "cell_type": "code",
   "execution_count": 31,
   "id": "a2dd780e",
   "metadata": {},
   "outputs": [
    {
     "data": {
      "application/vnd.microsoft.datawrangler.viewer.v0+json": {
       "columns": [
        {
         "name": "itemid",
         "rawType": "int64",
         "type": "integer"
        },
        {
         "name": "afternoon",
         "rawType": "int64",
         "type": "integer"
        },
        {
         "name": "evening",
         "rawType": "int64",
         "type": "integer"
        },
        {
         "name": "morning",
         "rawType": "int64",
         "type": "integer"
        },
        {
         "name": "night",
         "rawType": "int64",
         "type": "integer"
        }
       ],
       "ref": "28233d26-d0c0-4771-a36a-59d303ec2f17",
       "rows": [
        [
         "15",
         "0",
         "3",
         "0",
         "0"
        ],
        [
         "19",
         "0",
         "1",
         "0",
         "0"
        ],
        [
         "25",
         "0",
         "1",
         "1",
         "2"
        ],
        [
         "33",
         "0",
         "3",
         "0",
         "0"
        ],
        [
         "42",
         "0",
         "1",
         "0",
         "1"
        ],
        [
         "66",
         "1",
         "0",
         "0",
         "0"
        ],
        [
         "102",
         "0",
         "1",
         "0",
         "0"
        ],
        [
         "147",
         "4",
         "0",
         "0",
         "1"
        ],
        [
         "168",
         "0",
         "0",
         "0",
         "1"
        ],
        [
         "199",
         "1",
         "1",
         "0",
         "0"
        ]
       ],
       "shape": {
        "columns": 4,
        "rows": 10
       }
      },
      "text/html": [
       "<div>\n",
       "<style scoped>\n",
       "    .dataframe tbody tr th:only-of-type {\n",
       "        vertical-align: middle;\n",
       "    }\n",
       "\n",
       "    .dataframe tbody tr th {\n",
       "        vertical-align: top;\n",
       "    }\n",
       "\n",
       "    .dataframe thead th {\n",
       "        text-align: right;\n",
       "    }\n",
       "</style>\n",
       "<table border=\"1\" class=\"dataframe\">\n",
       "  <thead>\n",
       "    <tr style=\"text-align: right;\">\n",
       "      <th>time_of_day</th>\n",
       "      <th>afternoon</th>\n",
       "      <th>evening</th>\n",
       "      <th>morning</th>\n",
       "      <th>night</th>\n",
       "    </tr>\n",
       "    <tr>\n",
       "      <th>itemid</th>\n",
       "      <th></th>\n",
       "      <th></th>\n",
       "      <th></th>\n",
       "      <th></th>\n",
       "    </tr>\n",
       "  </thead>\n",
       "  <tbody>\n",
       "    <tr>\n",
       "      <th>15</th>\n",
       "      <td>0</td>\n",
       "      <td>3</td>\n",
       "      <td>0</td>\n",
       "      <td>0</td>\n",
       "    </tr>\n",
       "    <tr>\n",
       "      <th>19</th>\n",
       "      <td>0</td>\n",
       "      <td>1</td>\n",
       "      <td>0</td>\n",
       "      <td>0</td>\n",
       "    </tr>\n",
       "    <tr>\n",
       "      <th>25</th>\n",
       "      <td>0</td>\n",
       "      <td>1</td>\n",
       "      <td>1</td>\n",
       "      <td>2</td>\n",
       "    </tr>\n",
       "    <tr>\n",
       "      <th>33</th>\n",
       "      <td>0</td>\n",
       "      <td>3</td>\n",
       "      <td>0</td>\n",
       "      <td>0</td>\n",
       "    </tr>\n",
       "    <tr>\n",
       "      <th>42</th>\n",
       "      <td>0</td>\n",
       "      <td>1</td>\n",
       "      <td>0</td>\n",
       "      <td>1</td>\n",
       "    </tr>\n",
       "    <tr>\n",
       "      <th>66</th>\n",
       "      <td>1</td>\n",
       "      <td>0</td>\n",
       "      <td>0</td>\n",
       "      <td>0</td>\n",
       "    </tr>\n",
       "    <tr>\n",
       "      <th>102</th>\n",
       "      <td>0</td>\n",
       "      <td>1</td>\n",
       "      <td>0</td>\n",
       "      <td>0</td>\n",
       "    </tr>\n",
       "    <tr>\n",
       "      <th>147</th>\n",
       "      <td>4</td>\n",
       "      <td>0</td>\n",
       "      <td>0</td>\n",
       "      <td>1</td>\n",
       "    </tr>\n",
       "    <tr>\n",
       "      <th>168</th>\n",
       "      <td>0</td>\n",
       "      <td>0</td>\n",
       "      <td>0</td>\n",
       "      <td>1</td>\n",
       "    </tr>\n",
       "    <tr>\n",
       "      <th>199</th>\n",
       "      <td>1</td>\n",
       "      <td>1</td>\n",
       "      <td>0</td>\n",
       "      <td>0</td>\n",
       "    </tr>\n",
       "  </tbody>\n",
       "</table>\n",
       "</div>"
      ],
      "text/plain": [
       "time_of_day  afternoon  evening  morning  night\n",
       "itemid                                         \n",
       "15                   0        3        0      0\n",
       "19                   0        1        0      0\n",
       "25                   0        1        1      2\n",
       "33                   0        3        0      0\n",
       "42                   0        1        0      1\n",
       "66                   1        0        0      0\n",
       "102                  0        1        0      0\n",
       "147                  4        0        0      1\n",
       "168                  0        0        0      1\n",
       "199                  1        1        0      0"
      ]
     },
     "execution_count": 31,
     "metadata": {},
     "output_type": "execute_result"
    }
   ],
   "source": [
    "add_counts.head(10)"
   ]
  },
  {
   "cell_type": "code",
   "execution_count": 32,
   "id": "2d9b2490",
   "metadata": {},
   "outputs": [
    {
     "data": {
      "application/vnd.microsoft.datawrangler.viewer.v0+json": {
       "columns": [
        {
         "name": "index",
         "rawType": "object",
         "type": "string"
        },
        {
         "name": "afternoon",
         "rawType": "float64",
         "type": "float"
        },
        {
         "name": "evening",
         "rawType": "float64",
         "type": "float"
        },
        {
         "name": "morning",
         "rawType": "float64",
         "type": "float"
        },
        {
         "name": "night",
         "rawType": "float64",
         "type": "float"
        }
       ],
       "ref": "d4ffb8a3-4fff-4023-a63c-d7df4e260485",
       "rows": [
        [
         "count",
         "23903.0",
         "23903.0",
         "23903.0",
         "23903.0"
        ],
        [
         "mean",
         "0.6781993891980086",
         "1.2058319039451115",
         "0.18679663640547212",
         "0.829728485964105"
        ],
        [
         "std",
         "1.4341704994208073",
         "2.3441756962977536",
         "0.5986818218310106",
         "1.684774521589938"
        ],
        [
         "min",
         "0.0",
         "0.0",
         "0.0",
         "0.0"
        ],
        [
         "25%",
         "0.0",
         "0.0",
         "0.0",
         "0.0"
        ],
        [
         "50%",
         "0.0",
         "1.0",
         "0.0",
         "0.0"
        ],
        [
         "75%",
         "1.0",
         "1.0",
         "0.0",
         "1.0"
        ],
        [
         "max",
         "65.0",
         "119.0",
         "31.0",
         "91.0"
        ]
       ],
       "shape": {
        "columns": 4,
        "rows": 8
       }
      },
      "text/html": [
       "<div>\n",
       "<style scoped>\n",
       "    .dataframe tbody tr th:only-of-type {\n",
       "        vertical-align: middle;\n",
       "    }\n",
       "\n",
       "    .dataframe tbody tr th {\n",
       "        vertical-align: top;\n",
       "    }\n",
       "\n",
       "    .dataframe thead th {\n",
       "        text-align: right;\n",
       "    }\n",
       "</style>\n",
       "<table border=\"1\" class=\"dataframe\">\n",
       "  <thead>\n",
       "    <tr style=\"text-align: right;\">\n",
       "      <th>time_of_day</th>\n",
       "      <th>afternoon</th>\n",
       "      <th>evening</th>\n",
       "      <th>morning</th>\n",
       "      <th>night</th>\n",
       "    </tr>\n",
       "  </thead>\n",
       "  <tbody>\n",
       "    <tr>\n",
       "      <th>count</th>\n",
       "      <td>23903.000000</td>\n",
       "      <td>23903.000000</td>\n",
       "      <td>23903.000000</td>\n",
       "      <td>23903.000000</td>\n",
       "    </tr>\n",
       "    <tr>\n",
       "      <th>mean</th>\n",
       "      <td>0.678199</td>\n",
       "      <td>1.205832</td>\n",
       "      <td>0.186797</td>\n",
       "      <td>0.829728</td>\n",
       "    </tr>\n",
       "    <tr>\n",
       "      <th>std</th>\n",
       "      <td>1.434170</td>\n",
       "      <td>2.344176</td>\n",
       "      <td>0.598682</td>\n",
       "      <td>1.684775</td>\n",
       "    </tr>\n",
       "    <tr>\n",
       "      <th>min</th>\n",
       "      <td>0.000000</td>\n",
       "      <td>0.000000</td>\n",
       "      <td>0.000000</td>\n",
       "      <td>0.000000</td>\n",
       "    </tr>\n",
       "    <tr>\n",
       "      <th>25%</th>\n",
       "      <td>0.000000</td>\n",
       "      <td>0.000000</td>\n",
       "      <td>0.000000</td>\n",
       "      <td>0.000000</td>\n",
       "    </tr>\n",
       "    <tr>\n",
       "      <th>50%</th>\n",
       "      <td>0.000000</td>\n",
       "      <td>1.000000</td>\n",
       "      <td>0.000000</td>\n",
       "      <td>0.000000</td>\n",
       "    </tr>\n",
       "    <tr>\n",
       "      <th>75%</th>\n",
       "      <td>1.000000</td>\n",
       "      <td>1.000000</td>\n",
       "      <td>0.000000</td>\n",
       "      <td>1.000000</td>\n",
       "    </tr>\n",
       "    <tr>\n",
       "      <th>max</th>\n",
       "      <td>65.000000</td>\n",
       "      <td>119.000000</td>\n",
       "      <td>31.000000</td>\n",
       "      <td>91.000000</td>\n",
       "    </tr>\n",
       "  </tbody>\n",
       "</table>\n",
       "</div>"
      ],
      "text/plain": [
       "time_of_day     afternoon       evening       morning         night\n",
       "count        23903.000000  23903.000000  23903.000000  23903.000000\n",
       "mean             0.678199      1.205832      0.186797      0.829728\n",
       "std              1.434170      2.344176      0.598682      1.684775\n",
       "min              0.000000      0.000000      0.000000      0.000000\n",
       "25%              0.000000      0.000000      0.000000      0.000000\n",
       "50%              0.000000      1.000000      0.000000      0.000000\n",
       "75%              1.000000      1.000000      0.000000      1.000000\n",
       "max             65.000000    119.000000     31.000000     91.000000"
      ]
     },
     "execution_count": 32,
     "metadata": {},
     "output_type": "execute_result"
    }
   ],
   "source": [
    "add_counts.describe()"
   ]
  },
  {
   "cell_type": "markdown",
   "id": "a92cb9fd",
   "metadata": {},
   "source": [
    "The quick analysis of the addtocart counts also shows that on average, most addtocarts per product is happening in the evening, but the amount is much less, with only 1.20 add to carts per product at night compared to 0.18 add to carts per product in the morning, 0.67 add to carts per product in the afternoon, and 0.29 add to carts per product at night. It appears that the time between getting home from work and sleeping is the most popular for online shopping and purchasing, but we can look deeper into this later."
   ]
  },
  {
   "cell_type": "markdown",
   "id": "a7143e56",
   "metadata": {},
   "source": [
    "### Statistical Aggregates (choose at least 2)\n",
    "\n",
    "- `num_of_views`, `num_of_add_to_carts`: Total count for the week\n",
    "- `mean`, `std` of views/add_to_carts: Across past weeks (moving average or full history)\n",
    "- `monthly_avg_views/add_to_carts`: Long-term engagement trends"
   ]
  },
  {
   "cell_type": "code",
   "execution_count": 85,
   "id": "5f9a6dca",
   "metadata": {},
   "outputs": [
    {
     "data": {
      "application/vnd.microsoft.datawrangler.viewer.v0+json": {
       "columns": [
        {
         "name": "index",
         "rawType": "int64",
         "type": "integer"
        },
        {
         "name": "timestamp",
         "rawType": "object",
         "type": "unknown"
        },
        {
         "name": "addtocart",
         "rawType": "int64",
         "type": "integer"
        },
        {
         "name": "transaction",
         "rawType": "int64",
         "type": "integer"
        },
        {
         "name": "view",
         "rawType": "int64",
         "type": "integer"
        }
       ],
       "ref": "af7fb5eb-217b-4e30-b1cf-3466bc2fdf3f",
       "rows": [
        [
         "0",
         "2015-05-03",
         "296",
         "83",
         "13304"
        ],
        [
         "1",
         "2015-05-10",
         "3492",
         "1103",
         "129180"
        ],
        [
         "2",
         "2015-05-17",
         "3642",
         "1218",
         "144001"
        ],
        [
         "3",
         "2015-05-24",
         "3419",
         "1061",
         "148034"
        ],
        [
         "4",
         "2015-05-31",
         "3520",
         "1146",
         "137153"
        ],
        [
         "5",
         "2015-06-07",
         "3405",
         "1174",
         "141866"
        ],
        [
         "6",
         "2015-06-14",
         "3081",
         "966",
         "127805"
        ],
        [
         "7",
         "2015-06-21",
         "4036",
         "1316",
         "140624"
        ],
        [
         "8",
         "2015-06-28",
         "3520",
         "1222",
         "136946"
        ],
        [
         "9",
         "2015-07-05",
         "3337",
         "1089",
         "134807"
        ]
       ],
       "shape": {
        "columns": 4,
        "rows": 10
       }
      },
      "text/html": [
       "<div>\n",
       "<style scoped>\n",
       "    .dataframe tbody tr th:only-of-type {\n",
       "        vertical-align: middle;\n",
       "    }\n",
       "\n",
       "    .dataframe tbody tr th {\n",
       "        vertical-align: top;\n",
       "    }\n",
       "\n",
       "    .dataframe thead th {\n",
       "        text-align: right;\n",
       "    }\n",
       "</style>\n",
       "<table border=\"1\" class=\"dataframe\">\n",
       "  <thead>\n",
       "    <tr style=\"text-align: right;\">\n",
       "      <th>event</th>\n",
       "      <th>timestamp</th>\n",
       "      <th>addtocart</th>\n",
       "      <th>transaction</th>\n",
       "      <th>view</th>\n",
       "    </tr>\n",
       "  </thead>\n",
       "  <tbody>\n",
       "    <tr>\n",
       "      <th>0</th>\n",
       "      <td>2015-05-03</td>\n",
       "      <td>296</td>\n",
       "      <td>83</td>\n",
       "      <td>13304</td>\n",
       "    </tr>\n",
       "    <tr>\n",
       "      <th>1</th>\n",
       "      <td>2015-05-10</td>\n",
       "      <td>3492</td>\n",
       "      <td>1103</td>\n",
       "      <td>129180</td>\n",
       "    </tr>\n",
       "    <tr>\n",
       "      <th>2</th>\n",
       "      <td>2015-05-17</td>\n",
       "      <td>3642</td>\n",
       "      <td>1218</td>\n",
       "      <td>144001</td>\n",
       "    </tr>\n",
       "    <tr>\n",
       "      <th>3</th>\n",
       "      <td>2015-05-24</td>\n",
       "      <td>3419</td>\n",
       "      <td>1061</td>\n",
       "      <td>148034</td>\n",
       "    </tr>\n",
       "    <tr>\n",
       "      <th>4</th>\n",
       "      <td>2015-05-31</td>\n",
       "      <td>3520</td>\n",
       "      <td>1146</td>\n",
       "      <td>137153</td>\n",
       "    </tr>\n",
       "    <tr>\n",
       "      <th>5</th>\n",
       "      <td>2015-06-07</td>\n",
       "      <td>3405</td>\n",
       "      <td>1174</td>\n",
       "      <td>141866</td>\n",
       "    </tr>\n",
       "    <tr>\n",
       "      <th>6</th>\n",
       "      <td>2015-06-14</td>\n",
       "      <td>3081</td>\n",
       "      <td>966</td>\n",
       "      <td>127805</td>\n",
       "    </tr>\n",
       "    <tr>\n",
       "      <th>7</th>\n",
       "      <td>2015-06-21</td>\n",
       "      <td>4036</td>\n",
       "      <td>1316</td>\n",
       "      <td>140624</td>\n",
       "    </tr>\n",
       "    <tr>\n",
       "      <th>8</th>\n",
       "      <td>2015-06-28</td>\n",
       "      <td>3520</td>\n",
       "      <td>1222</td>\n",
       "      <td>136946</td>\n",
       "    </tr>\n",
       "    <tr>\n",
       "      <th>9</th>\n",
       "      <td>2015-07-05</td>\n",
       "      <td>3337</td>\n",
       "      <td>1089</td>\n",
       "      <td>134807</td>\n",
       "    </tr>\n",
       "  </tbody>\n",
       "</table>\n",
       "</div>"
      ],
      "text/plain": [
       "event   timestamp  addtocart  transaction    view\n",
       "0      2015-05-03        296           83   13304\n",
       "1      2015-05-10       3492         1103  129180\n",
       "2      2015-05-17       3642         1218  144001\n",
       "3      2015-05-24       3419         1061  148034\n",
       "4      2015-05-31       3520         1146  137153\n",
       "5      2015-06-07       3405         1174  141866\n",
       "6      2015-06-14       3081          966  127805\n",
       "7      2015-06-21       4036         1316  140624\n",
       "8      2015-06-28       3520         1222  136946\n",
       "9      2015-07-05       3337         1089  134807"
      ]
     },
     "execution_count": 85,
     "metadata": {},
     "output_type": "execute_result"
    }
   ],
   "source": [
    "# make new table with event_df_copy data with addtocart, transaction, view counts grouped by week\n",
    "\n",
    "weekly_event_df = event_df_copy.copy()\n",
    "\n",
    "# START [ChatGPT 4.o] \"i want to take the dataset i have now which is log data every few minutes and aggregate the values into a row for each week of data. how would i do that?\"\n",
    "# timestamp will be week ending date\n",
    "# weekly_event_df = (\n",
    "#     event_df_copy\n",
    "#     .groupby(['itemid', pd.Grouper(key='timestamp', freq='W'), 'event'])\n",
    "#     .size()\n",
    "#     .unstack(fill_value=0)\n",
    "#     .reset_index()\n",
    "# )\n",
    "# weekly_event_df = weekly_event_df.sort_values(by='timestamp')\n",
    "# END [ChatGPT 4.o]\n",
    "\n",
    "## TOASK: SHOULD THIS BE BY PRODUCT OR JUST OVERALL VALUES BY WEEK? ##\n",
    "# START [ChatGPT 4.o] \"can it not be grouped by product id but just by week and then aggregate all the data within that week\"\n",
    "weekly_event_df = (\n",
    "    event_df_copy\n",
    "    .groupby([pd.Grouper(key='timestamp', freq='W'), 'event'])\n",
    "    .size()\n",
    "    .unstack(fill_value=0)\n",
    "    .reset_index()\n",
    ")\n",
    "# END [ChatGPT 4.o]\n",
    "\n",
    "weekly_event_df['timestamp'] = pd.to_datetime(weekly_event_df['timestamp']).dt.date\n",
    "\n",
    "weekly_event_df.head(10)\n"
   ]
  },
  {
   "cell_type": "code",
   "execution_count": 86,
   "id": "d45fc9db",
   "metadata": {},
   "outputs": [
    {
     "data": {
      "application/vnd.microsoft.datawrangler.viewer.v0+json": {
       "columns": [
        {
         "name": "index",
         "rawType": "int64",
         "type": "integer"
        },
        {
         "name": "timestamp",
         "rawType": "object",
         "type": "unknown"
        },
        {
         "name": "addtocart",
         "rawType": "int64",
         "type": "integer"
        },
        {
         "name": "transaction",
         "rawType": "int64",
         "type": "integer"
        },
        {
         "name": "view",
         "rawType": "int64",
         "type": "integer"
        },
        {
         "name": "mean_daily_views",
         "rawType": "float64",
         "type": "float"
        },
        {
         "name": "std_daily_views",
         "rawType": "float64",
         "type": "float"
        },
        {
         "name": "mean_daily_addtocart",
         "rawType": "float64",
         "type": "float"
        },
        {
         "name": "std_daily_addtocart",
         "rawType": "float64",
         "type": "float"
        }
       ],
       "ref": "fbee545a-1cf7-46e7-a10d-ce6a01f5a210",
       "rows": [
        [
         "0",
         "2015-05-03",
         "296",
         "83",
         "13304",
         "13304.0",
         null,
         "296.0",
         null
        ],
        [
         "1",
         "2015-05-10",
         "3492",
         "1103",
         "129180",
         "18454.285714285714",
         "4697.2323310039255",
         "498.85714285714283",
         "143.38692242952118"
        ],
        [
         "2",
         "2015-05-17",
         "3642",
         "1218",
         "144001",
         "20571.571428571428",
         "2641.5740797955327",
         "520.2857142857143",
         "98.15924864850025"
        ],
        [
         "3",
         "2015-05-24",
         "3419",
         "1061",
         "148034",
         "21147.714285714286",
         "3980.1653949840547",
         "488.42857142857144",
         "134.24462390583486"
        ],
        [
         "4",
         "2015-05-31",
         "3520",
         "1146",
         "137153",
         "19593.285714285714",
         "2914.1198622274583",
         "502.85714285714283",
         "89.21402836517836"
        ],
        [
         "5",
         "2015-06-07",
         "3405",
         "1174",
         "141866",
         "20266.571428571428",
         "3252.2726852229985",
         "486.42857142857144",
         "98.34100050819282"
        ],
        [
         "6",
         "2015-06-14",
         "3081",
         "966",
         "127805",
         "18257.85714285714",
         "4554.762541507934",
         "440.14285714285717",
         "119.3306730216901"
        ],
        [
         "7",
         "2015-06-21",
         "4036",
         "1316",
         "140624",
         "20089.14285714286",
         "3576.7002217393715",
         "576.5714285714286",
         "170.63201843231448"
        ],
        [
         "8",
         "2015-06-28",
         "3520",
         "1222",
         "136946",
         "19563.714285714286",
         "2880.310962048236",
         "502.85714285714283",
         "112.62094028410613"
        ],
        [
         "9",
         "2015-07-05",
         "3337",
         "1089",
         "134807",
         "19258.14285714286",
         "2740.0184566635944",
         "476.7142857142857",
         "55.00216445957462"
        ]
       ],
       "shape": {
        "columns": 8,
        "rows": 10
       }
      },
      "text/html": [
       "<div>\n",
       "<style scoped>\n",
       "    .dataframe tbody tr th:only-of-type {\n",
       "        vertical-align: middle;\n",
       "    }\n",
       "\n",
       "    .dataframe tbody tr th {\n",
       "        vertical-align: top;\n",
       "    }\n",
       "\n",
       "    .dataframe thead th {\n",
       "        text-align: right;\n",
       "    }\n",
       "</style>\n",
       "<table border=\"1\" class=\"dataframe\">\n",
       "  <thead>\n",
       "    <tr style=\"text-align: right;\">\n",
       "      <th></th>\n",
       "      <th>timestamp</th>\n",
       "      <th>addtocart</th>\n",
       "      <th>transaction</th>\n",
       "      <th>view</th>\n",
       "      <th>mean_daily_views</th>\n",
       "      <th>std_daily_views</th>\n",
       "      <th>mean_daily_addtocart</th>\n",
       "      <th>std_daily_addtocart</th>\n",
       "    </tr>\n",
       "  </thead>\n",
       "  <tbody>\n",
       "    <tr>\n",
       "      <th>0</th>\n",
       "      <td>2015-05-03</td>\n",
       "      <td>296</td>\n",
       "      <td>83</td>\n",
       "      <td>13304</td>\n",
       "      <td>13304.000000</td>\n",
       "      <td>NaN</td>\n",
       "      <td>296.000000</td>\n",
       "      <td>NaN</td>\n",
       "    </tr>\n",
       "    <tr>\n",
       "      <th>1</th>\n",
       "      <td>2015-05-10</td>\n",
       "      <td>3492</td>\n",
       "      <td>1103</td>\n",
       "      <td>129180</td>\n",
       "      <td>18454.285714</td>\n",
       "      <td>4697.232331</td>\n",
       "      <td>498.857143</td>\n",
       "      <td>143.386922</td>\n",
       "    </tr>\n",
       "    <tr>\n",
       "      <th>2</th>\n",
       "      <td>2015-05-17</td>\n",
       "      <td>3642</td>\n",
       "      <td>1218</td>\n",
       "      <td>144001</td>\n",
       "      <td>20571.571429</td>\n",
       "      <td>2641.574080</td>\n",
       "      <td>520.285714</td>\n",
       "      <td>98.159249</td>\n",
       "    </tr>\n",
       "    <tr>\n",
       "      <th>3</th>\n",
       "      <td>2015-05-24</td>\n",
       "      <td>3419</td>\n",
       "      <td>1061</td>\n",
       "      <td>148034</td>\n",
       "      <td>21147.714286</td>\n",
       "      <td>3980.165395</td>\n",
       "      <td>488.428571</td>\n",
       "      <td>134.244624</td>\n",
       "    </tr>\n",
       "    <tr>\n",
       "      <th>4</th>\n",
       "      <td>2015-05-31</td>\n",
       "      <td>3520</td>\n",
       "      <td>1146</td>\n",
       "      <td>137153</td>\n",
       "      <td>19593.285714</td>\n",
       "      <td>2914.119862</td>\n",
       "      <td>502.857143</td>\n",
       "      <td>89.214028</td>\n",
       "    </tr>\n",
       "    <tr>\n",
       "      <th>5</th>\n",
       "      <td>2015-06-07</td>\n",
       "      <td>3405</td>\n",
       "      <td>1174</td>\n",
       "      <td>141866</td>\n",
       "      <td>20266.571429</td>\n",
       "      <td>3252.272685</td>\n",
       "      <td>486.428571</td>\n",
       "      <td>98.341001</td>\n",
       "    </tr>\n",
       "    <tr>\n",
       "      <th>6</th>\n",
       "      <td>2015-06-14</td>\n",
       "      <td>3081</td>\n",
       "      <td>966</td>\n",
       "      <td>127805</td>\n",
       "      <td>18257.857143</td>\n",
       "      <td>4554.762542</td>\n",
       "      <td>440.142857</td>\n",
       "      <td>119.330673</td>\n",
       "    </tr>\n",
       "    <tr>\n",
       "      <th>7</th>\n",
       "      <td>2015-06-21</td>\n",
       "      <td>4036</td>\n",
       "      <td>1316</td>\n",
       "      <td>140624</td>\n",
       "      <td>20089.142857</td>\n",
       "      <td>3576.700222</td>\n",
       "      <td>576.571429</td>\n",
       "      <td>170.632018</td>\n",
       "    </tr>\n",
       "    <tr>\n",
       "      <th>8</th>\n",
       "      <td>2015-06-28</td>\n",
       "      <td>3520</td>\n",
       "      <td>1222</td>\n",
       "      <td>136946</td>\n",
       "      <td>19563.714286</td>\n",
       "      <td>2880.310962</td>\n",
       "      <td>502.857143</td>\n",
       "      <td>112.620940</td>\n",
       "    </tr>\n",
       "    <tr>\n",
       "      <th>9</th>\n",
       "      <td>2015-07-05</td>\n",
       "      <td>3337</td>\n",
       "      <td>1089</td>\n",
       "      <td>134807</td>\n",
       "      <td>19258.142857</td>\n",
       "      <td>2740.018457</td>\n",
       "      <td>476.714286</td>\n",
       "      <td>55.002164</td>\n",
       "    </tr>\n",
       "  </tbody>\n",
       "</table>\n",
       "</div>"
      ],
      "text/plain": [
       "    timestamp  addtocart  transaction    view  mean_daily_views  \\\n",
       "0  2015-05-03        296           83   13304      13304.000000   \n",
       "1  2015-05-10       3492         1103  129180      18454.285714   \n",
       "2  2015-05-17       3642         1218  144001      20571.571429   \n",
       "3  2015-05-24       3419         1061  148034      21147.714286   \n",
       "4  2015-05-31       3520         1146  137153      19593.285714   \n",
       "5  2015-06-07       3405         1174  141866      20266.571429   \n",
       "6  2015-06-14       3081          966  127805      18257.857143   \n",
       "7  2015-06-21       4036         1316  140624      20089.142857   \n",
       "8  2015-06-28       3520         1222  136946      19563.714286   \n",
       "9  2015-07-05       3337         1089  134807      19258.142857   \n",
       "\n",
       "   std_daily_views  mean_daily_addtocart  std_daily_addtocart  \n",
       "0              NaN            296.000000                  NaN  \n",
       "1      4697.232331            498.857143           143.386922  \n",
       "2      2641.574080            520.285714            98.159249  \n",
       "3      3980.165395            488.428571           134.244624  \n",
       "4      2914.119862            502.857143            89.214028  \n",
       "5      3252.272685            486.428571            98.341001  \n",
       "6      4554.762542            440.142857           119.330673  \n",
       "7      3576.700222            576.571429           170.632018  \n",
       "8      2880.310962            502.857143           112.620940  \n",
       "9      2740.018457            476.714286            55.002164  "
      ]
     },
     "execution_count": 86,
     "metadata": {},
     "output_type": "execute_result"
    }
   ],
   "source": [
    "# mean and standard deviation of daily views, adds, and transactions per week\n",
    "\n",
    "daily_counts = (\n",
    "    event_df_copy[event_df_copy['event'].isin(['view', 'addtocart'])]\n",
    "    .groupby([pd.Grouper(key='timestamp', freq='D'), 'event'])\n",
    "    .size()\n",
    "    .unstack(fill_value=0)\n",
    "    .reset_index()\n",
    ")\n",
    "\n",
    "daily_counts['week_ending'] = daily_counts['timestamp'].dt.to_period('W').apply(lambda r: r.end_time)\n",
    "\n",
    "weekly_stats = (\n",
    "    daily_counts\n",
    "    .groupby('week_ending')\n",
    "    .agg(\n",
    "        mean_daily_views=('view', 'mean'),\n",
    "        std_daily_views=('view', 'std'),\n",
    "        mean_daily_addtocart=('addtocart', 'mean'),\n",
    "        std_daily_addtocart=('addtocart', 'std')\n",
    "    )\n",
    "    .reset_index()\n",
    ")\n",
    "\n",
    "# convert week_ending to date format to match weekly_event_df so they can merge\n",
    "weekly_stats['week_ending'] = pd.to_datetime(weekly_stats['week_ending']).dt.date\n",
    "\n",
    "# Merge\n",
    "weekly_event_df = weekly_event_df.merge(\n",
    "    weekly_stats,\n",
    "    how='left',\n",
    "    left_on='timestamp',\n",
    "    right_on='week_ending'\n",
    ")\n",
    "\n",
    "# Optional: drop the extra week_ending column\n",
    "weekly_event_df.drop(columns='week_ending', inplace=True)\n",
    "\n",
    "weekly_event_df.head(10)"
   ]
  },
  {
   "cell_type": "markdown",
   "id": "594226c9",
   "metadata": {},
   "source": [
    "After this feature extraction, we can see the mean and standard deviation of daily views and addtocarts per week. This is different than simply dividing the totals by 7 because it captures the nuance of each day's activity. We can plot this as a time series chart to compare the totals and the computed means."
   ]
  },
  {
   "cell_type": "code",
   "execution_count": 87,
   "id": "18dcc8e8",
   "metadata": {},
   "outputs": [
    {
     "data": {
      "image/png": "[encoded data removed]",
      "text/plain": [
       "<Figure size 1000x600 with 1 Axes>"
      ]
     },
     "metadata": {},
     "output_type": "display_data"
    }
   ],
   "source": [
    "# show weekly_event_df data as a time series plot\n",
    "\n",
    "# START [CoPilot]\n",
    "plt.figure(figsize=(10, 6))\n",
    "sns.lineplot(data=weekly_event_df, x='timestamp', y='view', label='Views', marker='o')\n",
    "sns.lineplot(data=weekly_event_df, x='timestamp', y='addtocart', label='Add to Cart', marker='o')\n",
    "sns.lineplot(data=weekly_event_df, x='timestamp', y='transaction', label='Transactions', marker='o')\n",
    "\n",
    "# sns.lineplot(data=weekly_event_df, x='timestamp', y='mean_views', label='mean views', marker='o')\n",
    "# sns.lineplot(data=weekly_event_df, x='timestamp', y='mean_addtocart', label='mean addtocart', marker='o')\n",
    "plt.title('Weekly Event Counts Over Time')\n",
    "plt.xlabel('Week Ending')\n",
    "plt.ylabel('Count')\n",
    "plt.xticks(rotation=45)\n",
    "plt.legend()\n",
    "plt.tight_layout()\n",
    "plt.show()\n",
    "# END [CoPilot]"
   ]
  },
  {
   "cell_type": "markdown",
   "id": "c378dc89",
   "metadata": {},
   "source": [
    "Here we can see that views are the highest value, and the add to carts and transactions are much lower. This graph includes weekly aggregates of view, addtocart, and transaction values, so shows trends over weeks and months. It seems that views are relatively consistent, but spike in late July-early August with a dip in views after. I am assuming the first and last weeks are low because data collection started midweek, so will disregard these. The addtocart and transactions so appear to spike a bit to match with the July-August spike in views, but are far less than the view values overall."
   ]
  },
  {
   "cell_type": "code",
   "execution_count": 88,
   "id": "06bcbcbb",
   "metadata": {},
   "outputs": [
    {
     "data": {
      "image/png": "[encoded data removed]",
      "text/plain": [
       "<Figure size 1000x600 with 1 Axes>"
      ]
     },
     "metadata": {},
     "output_type": "display_data"
    }
   ],
   "source": [
    "# show graph with daily means of views and addtocart for comparison\n",
    "\n",
    "plt.figure(figsize=(10, 6))\n",
    "sns.lineplot(data=weekly_event_df, x='timestamp', y='view', label='Views', marker='o')\n",
    "sns.lineplot(data=weekly_event_df, x='timestamp', y='addtocart', label='Add to Cart', marker='o')\n",
    "# sns.lineplot(data=weekly_event_df, x='timestamp', y='transaction', label='Transactions', marker='o')\n",
    "\n",
    "sns.lineplot(data=weekly_event_df, x='timestamp', y='mean_daily_views', label='mean daily views', marker='o')\n",
    "sns.lineplot(data=weekly_event_df, x='timestamp', y='mean_daily_addtocart', label='mean daily addtocarts', marker='o')\n",
    "plt.title('Weekly Event Counts Over Time')\n",
    "plt.xlabel('Week Ending')\n",
    "plt.ylabel('Count')\n",
    "plt.xticks(rotation=45)\n",
    "plt.legend()\n",
    "plt.tight_layout()\n",
    "plt.show()\n"
   ]
  },
  {
   "cell_type": "markdown",
   "id": "fbd431ac",
   "metadata": {},
   "source": [
    "In this graph, the aggregated weekly views and addtocarts are compared to the daily mean views and addtocarts. We can see that daily means are much smaller, but do reflect the overall shape of the view and addtocart data."
   ]
  },
  {
   "cell_type": "code",
   "execution_count": 90,
   "id": "6823c0c7",
   "metadata": {},
   "outputs": [
    {
     "data": {
      "image/png": "[encoded data removed]",
      "text/plain": [
       "<Figure size 1000x600 with 1 Axes>"
      ]
     },
     "metadata": {},
     "output_type": "display_data"
    },
    {
     "data": {
      "image/png": "[encoded data removed]",
      "text/plain": [
       "<Figure size 1000x600 with 1 Axes>"
      ]
     },
     "metadata": {},
     "output_type": "display_data"
    }
   ],
   "source": [
    "# make box plot of mean views and addtocarts with stadard deviation as error bars\n",
    "# START [CoPilot]\n",
    "plt.figure(figsize=(10, 6))\n",
    "sns.boxplot(data=weekly_event_df[['mean_daily_views', 'std_daily_views']])\n",
    "plt.title('Mean Daily Views with Standard Deviation')\n",
    "plt.ylabel('Count')\n",
    "plt.xticks([0, 1], ['Mean Daily Views', 'Std Daily Views'])\n",
    "plt.tight_layout()\n",
    "plt.show()\n",
    "# END [CoPilot]\n",
    "\n",
    "plt.figure(figsize=(10, 6))\n",
    "sns.boxplot(data=weekly_event_df[['mean_daily_addtocart', 'std_daily_addtocart']])\n",
    "plt.title('Mean Daily Add to Carts with Standard Deviation')\n",
    "plt.ylabel('Count')\n",
    "plt.xticks([0, 1], ['Mean Daily Add to Cart', 'Std Daily Add to Cart'])\n",
    "plt.tight_layout()\n",
    "plt.show()"
   ]
  },
  {
   "cell_type": "markdown",
   "id": "d4774946",
   "metadata": {},
   "source": [
    "These boxplots show some high and low outliers in the addtocart and views values, which I expect are the beginning and end values, as well as the July-August spike. I will remove the first and last values from the dataset to compare accuracy when we begin using the regression model."
   ]
  },
  {
   "cell_type": "code",
   "execution_count": 91,
   "id": "aaf79f1f",
   "metadata": {},
   "outputs": [
    {
     "data": {
      "image/png": "[encoded data removed]",
      "text/plain": [
       "<Figure size 1000x600 with 1 Axes>"
      ]
     },
     "metadata": {},
     "output_type": "display_data"
    }
   ],
   "source": [
    "# drop first and last row of weekly_event_df to remove incomplete weeks\n",
    "# START [CoPilot]\n",
    "cleaned_weekly_event_df = weekly_event_df.iloc[1:-1].reset_index(drop=True)\n",
    "# END [CoPilot]\n",
    "\n",
    "# check if they are removed\n",
    "plt.figure(figsize=(10, 6))\n",
    "sns.lineplot(data=cleaned_weekly_event_df, x='timestamp', y='view', label='Views', marker='o')\n",
    "sns.lineplot(data=cleaned_weekly_event_df, x='timestamp', y='addtocart', label='Add to Cart', marker='o')\n",
    "sns.lineplot(data=cleaned_weekly_event_df, x='timestamp', y='transaction', label='Transactions', marker='o')\n",
    "\n",
    "plt.title('Weekly Event Counts Over Time')\n",
    "plt.xlabel('Week Ending')\n",
    "plt.ylabel('Count')\n",
    "plt.xticks(rotation=45)\n",
    "plt.legend()\n",
    "plt.tight_layout()\n",
    "plt.show()\n",
    "\n"
   ]
  },
  {
   "cell_type": "markdown",
   "id": "aaf8a739",
   "metadata": {},
   "source": [
    "This cleaned dataframe is a better indication of the values since it doesn't have the midweek collection start and end artifacts biasing the data."
   ]
  },
  {
   "cell_type": "markdown",
   "id": "a24df966",
   "metadata": {},
   "source": [
    "### Contextual / Item-Level Features (optional)\n",
    "\n",
    "- `availability_weeks`: Weeks since the item first became available\n",
    "- `num_of_sales_for_parent_category_per_week`: Aggregated sales of all items in the same parent category"
   ]
  },
  {
   "cell_type": "code",
   "execution_count": null,
   "id": "22c6a074",
   "metadata": {},
   "outputs": [],
   "source": [
    "# insert if i have time"
   ]
  },
  {
   "cell_type": "markdown",
   "id": "5bda7dcb",
   "metadata": {},
   "source": [
    "### Engagement Ratios (choose at least 1)\n",
    "\n",
    "- **Add-to-cart to view ratio**:  \n",
    "  \\[\n",
    "  \\text{ratio} = \\frac{\\text{num add to cart}}{\\text{num views} + 1}\n",
    "  \\]\n",
    "\n",
    "- **Category-level engagement**:  \n",
    "  Ratio of add-to-carts to views at the parent category level"
   ]
  },
  {
   "cell_type": "code",
   "execution_count": 98,
   "id": "c1eaea8e",
   "metadata": {},
   "outputs": [
    {
     "data": {
      "image/png": "[encoded data removed]",
      "text/plain": [
       "<Figure size 1000x600 with 1 Axes>"
      ]
     },
     "metadata": {},
     "output_type": "display_data"
    }
   ],
   "source": [
    "# calculate add to cart to view ratio for weekly_event_df\n",
    "\n",
    "weekly_event_df['addtocart_to_view_ratio'] = (\n",
    "    weekly_event_df['addtocart'] / weekly_event_df['view']\n",
    ").replace([np.inf, -np.inf], np.nan)  # replace inf values with NaN\n",
    "\n",
    "weekly_event_df.head(10)\n",
    "\n",
    "# plot ratio over time\n",
    "plt.figure(figsize=(10, 6))\n",
    "sns.lineplot(data=weekly_event_df, x='timestamp', y='addtocart_to_view_ratio', label='Add to Cart to View Ratio', marker='o')\n",
    "\n",
    "plt.title('Weekly Event Counts Over Time')\n",
    "plt.xlabel('Week Ending')\n",
    "plt.ylabel('Count')\n",
    "plt.xticks(rotation=45)\n",
    "plt.legend()\n",
    "plt.tight_layout()\n",
    "plt.show()\n",
    "\n"
   ]
  },
  {
   "cell_type": "markdown",
   "id": "07889885",
   "metadata": {},
   "source": [
    "To explore how the view number impacts the number of times items are added to cart, we can compute the add to cart to view ratio by dividing the number of times an item is added to the cart by the number of views. I added this to the existing weekly_event_df dataset with the other weekly aggregates, means, and standard deviations. The plot shows that the ratio changes over time, but within a very small range of 0.022 to 0.029, so in actuality stays relatively consistent."
   ]
  },
  {
   "cell_type": "markdown",
   "id": "70d9130c",
   "metadata": {},
   "source": [
    "### Recency Features (choose at least 1)\n",
    "\n",
    "- Days since last view or add-to-cart\n",
    "- Was the item viewed/added this week? (binary feature)"
   ]
  },
  {
   "cell_type": "code",
   "execution_count": null,
   "id": "5b00fc1e",
   "metadata": {},
   "outputs": [],
   "source": [
    "# \n",
    "\n"
   ]
  },
  {
   "cell_type": "markdown",
   "id": "1b9fdcf7",
   "metadata": {},
   "source": [
    "### Diversity of Audience (choose at least 1)\n",
    "\n",
    "- Number of **unique users** who viewed or added the item this week\n",
    "- Number of **returning users** who interacted with it in previous weeks (*may be more challenging*)"
   ]
  },
  {
   "cell_type": "code",
   "execution_count": 16,
   "id": "67057bec",
   "metadata": {},
   "outputs": [],
   "source": [
    "# code"
   ]
  },
  {
   "cell_type": "markdown",
   "id": "6a392860",
   "metadata": {},
   "source": [
    "### Your Suggested Features (propose and use 2)\n",
    "\n",
    "Propose at **least two other features** that you think would give you an edge for better prediction. Try them to complement or replace some of the other features. "
   ]
  },
  {
   "cell_type": "code",
   "execution_count": 17,
   "id": "5a8e81f6",
   "metadata": {},
   "outputs": [],
   "source": [
    "# code"
   ]
  },
  {
   "cell_type": "markdown",
   "id": "afcbafe4",
   "metadata": {},
   "source": [
    "## 3. Regression Task\n",
    "\n",
    "a. Start by creating a **baseline model** using only `weekly_views` and `weekly_add_to_cart` as features."
   ]
  },
  {
   "cell_type": "code",
   "execution_count": 84,
   "id": "55ba0598",
   "metadata": {},
   "outputs": [
    {
     "name": "stdout",
     "output_type": "stream",
     "text": [
      "    itemid  timestamp  sales_count\n",
      "0       15 2015-07-12            1\n",
      "1       19 2015-08-16            1\n",
      "2       25 2015-06-14            1\n",
      "3       25 2015-08-09            1\n",
      "4       42 2015-08-16            1\n",
      "5      147 2015-09-06            4\n",
      "6      168 2015-09-20            1\n",
      "7      199 2015-07-19            1\n",
      "8      212 2015-06-21            1\n",
      "9      233 2015-06-21            1\n",
      "10     304 2015-09-20            1\n",
      "11     320 2015-06-21            1\n",
      "12     387 2015-08-09            1\n",
      "13     403 2015-06-14            1\n",
      "14     496 2015-06-14            1\n",
      "15     496 2015-06-21            1\n",
      "16     546 2015-07-26            3\n",
      "17     546 2015-08-02            5\n",
      "18     546 2015-08-09            2\n",
      "19     546 2015-08-16            2\n",
      "20     546 2015-08-23            9\n",
      "21     546 2015-08-30            2\n",
      "22     563 2015-07-26            1\n",
      "23     572 2015-06-21            1\n",
      "24     651 2015-06-07            1\n",
      "25     655 2015-08-02            1\n",
      "26     698 2015-09-13            1\n",
      "27     720 2015-08-23            1\n",
      "28     821 2015-06-07            1\n",
      "29     822 2015-08-16            1\n",
      "30     829 2015-05-03            1\n",
      "31     829 2015-05-17            1\n",
      "32     829 2015-05-24            2\n",
      "33     829 2015-05-31            1\n",
      "34     835 2015-09-20            1\n",
      "35     856 2015-09-13            1\n",
      "36     869 2015-07-05            2\n",
      "37     869 2015-07-12            1\n",
      "38     869 2015-08-02            1\n",
      "39     869 2015-08-16            1\n",
      "40     869 2015-08-23            1\n",
      "41     869 2015-09-06            1\n",
      "42     909 2015-06-28            1\n",
      "43     963 2015-09-20            1\n",
      "44    1022 2015-05-31            1\n",
      "45    1022 2015-07-05            1\n",
      "46    1035 2015-08-02            1\n",
      "47    1090 2015-08-02            1\n",
      "48    1115 2015-07-26            1\n",
      "49    1152 2015-06-28            1\n"
     ]
    }
   ],
   "source": [
    "# we are interested in the number of successful purchases per item per week\n",
    "\n",
    "# reviewing what we got earlier\n",
    "print(weekly_sales_count.head(50))"
   ]
  },
  {
   "cell_type": "markdown",
   "id": "3d7bc007",
   "metadata": {},
   "source": [
    "b. Then, add your engineered features in **different combinations**, and compare the results using metrics like **RMSE** and **R²**. For each model, reflect on:\n",
    "\n",
    "- Why each feature might have a **positive**, **negative**, or **no impact** on the target\n",
    "- You may need to use correlation, distributions, or explore other solutions to support your reasoning. "
   ]
  },
  {
   "cell_type": "code",
   "execution_count": 19,
   "id": "6ab80c96",
   "metadata": {},
   "outputs": [],
   "source": [
    "# code"
   ]
  }
 ],
 "metadata": {
  "kernelspec": {
   "display_name": "tutorials",
   "language": "python",
   "name": "python3"
  },
  "language_info": {
   "codemirror_mode": {
    "name": "ipython",
    "version": 3
   },
   "file_extension": ".py",
   "mimetype": "text/x-python",
   "name": "python",
   "nbconvert_exporter": "python",
   "pygments_lexer": "ipython3",
   "version": "3.13.5"
  }
 },
 "nbformat": 4,
 "nbformat_minor": 5
}
